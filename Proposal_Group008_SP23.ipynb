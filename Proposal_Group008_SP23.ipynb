{
  "cells": [
    {
      "cell_type": "markdown",
      "metadata": {
        "id": "H583kTRi5mql"
      },
      "source": [
        "# COGS 118A- Project Proposal"
      ]
    },
    {
      "cell_type": "markdown",
      "metadata": {
        "id": "G7yHD_mj5mqm"
      },
      "source": [
        "# Project Description\n",
        "\n",
        "You will design and execute a machine learning project. There are a few constraints on the nature of the allowed project. \n",
        "- The problem addressed will not be a \"toy problem\" or \"common training students problem\" like mtcars, iris, palmer penguins etc.\n",
        "- The dataset will have >1k observations and >5 variables. I'd prefer more like >10k observations and >10 variables. A general rule is that if you have >100x more observations than variables, your solution will likely generalize a lot better. The goal of training a supervised machine learning model is to learn the underlying pattern in a dataset in order to generalize well to unseen data, so choosing a large dataset is very important.\n",
        "\n",
        "- The project will include a model selection and/or feature selection component where you will be looking for the best setup to maximize the performance of your ML system.\n",
        "- You will evaluate the performance of your ML system using more than one appropriate metric\n",
        "- You will be writing a report describing and discussing these accomplishments\n",
        "\n",
        "\n",
        "Feel free to delete this description section when you hand in your proposal."
      ]
    },
    {
      "cell_type": "markdown",
      "metadata": {
        "id": "tsUpg_Xp5mqn"
      },
      "source": [
        "### Peer Review\n",
        "\n",
        "You will all have an opportunity to look at the Project Proposals of other groups to fuel your creativity and get more ideas for how you can improve your own projects. \n",
        "\n",
        "Both the project proposal and project checkpoint will have peer review."
      ]
    },
    {
      "cell_type": "markdown",
      "metadata": {
        "id": "3YDxj9K-5mqn"
      },
      "source": [
        "# Names\n",
        "\n",
        "Hopefully your team is at least this good. Obviously you should replace these with your names.\n",
        "\n",
        "- Zijie Feng\n",
        "- Yunfei Yang\n",
        "- Junyue Lin\n",
        "- Chengqin Li\n"
      ]
    },
    {
      "cell_type": "markdown",
      "metadata": {
        "id": "7w2zwt0j5mqn"
      },
      "source": [
        "# Abstract \n",
        "This project aims to develop a machine-learning model that predicts an individual's likelihood and pattern of smoking based on the UK smoking dataset (https://www.kaggle.com/datasets/utkarshx27/smoking-dataset-from-uk). The dataset comprises 1691 observations across 12 variables including demographic details such as gender, age, marital status, education level, nationality, ethnicity, income, and region, alongside smoking-related indicators such as smoking status, quantity smoked on weekdays and weekends, and the type of cigarette preferred. The objective is to discern the latent patterns and relationships within these variables, leveraging them to create a robust predictive model. The project will include a rigorous process of model selection and feature selection, aimed at optimizing the performance of our machine learning system. Evaluation of the model's performance will be multifaceted, employing several appropriate metrics to ensure a comprehensive assessment. The ultimate goal is to create a model that accurately fits the provided data and generalizes effectively to unseen instances, thereby providing useful insights into the dynamics of smoking behavior."
      ]
    },
    {
      "cell_type": "markdown",
      "metadata": {
        "id": "xewcMvfT5mqn"
      },
      "source": [
        "# Background\n",
        "\n",
        "Health is a common concern all over the world. While notorious diseases like all kinds of cancers represent our idea of how our body can cease to perform normally, it is often overlooked that smoking, so common that people smoke regularly to destress, has caused more than 480,000 deaths annually<a name=\"cite_ref-1\"></a>[<sup>[1]</sup>](#cite_note-1). With the severity of smoking in mind, it is natural to think that we should try our best to prevent people from smoking as much as possible. So, which group of people should we target and convince them to quit smoking? \n",
        "\n",
        "\n",
        "There is plenty of research done on what factors could make someone more or less to smoke. For example, studies have shown that non-Hispanic Black cohabitors, separated non-Hispanic White adults, and single/never married Hispanic adults have a really high prevalence of cigarette smoking compared to groups of people with other marital status and ethnicities<a name=\"cite_ref-2\"></a>[<sup>[2]</sup>](#cite_note-2). This implies that marital status and ethnicity both could potentially be indicators for a smoker/non-smoker. These 2 variables are also what we will be looking at in this project. \n",
        "\n",
        "\n",
        "Gender, as another factor, has also been studied before. It is found that in almost all countries, cigarette usage is more popular among men than among women<a name=\"cite_ref-3\"></a>[<sup>[3]</sup>](#cite_note-3). However, some countries like the UK show a smaller difference between prevalence of smoking among men and women. This implies that maybe gender is not a significant indicator for smoking among people in the UK, which is where our dataset is based. We will look deeper into this later in the project.\n",
        "\n",
        "\n",
        "Income is another factor considered by researchers. It has been found that the worsening of social circumstances, normally related to lower income, could cause higher smoking risk<a name=\"cite_ref-4\"></a>[<sup>[4]</sup>](#cite_note-4). However, as personal income decreases, it could be the case that such individuals would be less likely to consider spending money on cigarettes since they are not a necessity of life. \n",
        "\n",
        "\n",
        "All factors discussed above can vary a lot across different groups of people all over the world. In this proposed project, we will try our best to explore such factors and their influences on the people of the UK, more specifically the individuals contained in our dataset. Smoking usage can be very much correlated with cultural and social norms, so more studies will be needed if we were to extend any conclusions we draw from this project.\n"
      ]
    },
    {
      "cell_type": "markdown",
      "metadata": {
        "id": "Tze4PWwd5mqn"
      },
      "source": [
        "# Problem Statement\n",
        "\n",
        "The problem we will be aiming to address is to determine which machine learning classifier has the best performance to classify whether a UK resident smoke or not. The output feature we are going to use is the [smoke] variable in the dataset, which is a binary value with only yes or no options. The potential algorithms we are going to try include but not limited to linear SVM, RBF SVM, KNN, logistic regression, and random forest. Since there are so many features, KNN might not do a good job on the prediction task. Eventually, we might exclude KNN. Random forest might be a good approach since most of our input features nominal categorical values. After preprocessing and EDA, we will split the data into a training set and testing set. Each algorithm will be trained using the same training data and the hyperparameters of all these algorithms will also be optimized. Finally, we will use precision, recall, and f1-score to compare the performance of these algorithms on the testing set."
      ]
    },
    {
      "cell_type": "markdown",
      "metadata": {
        "id": "P8-CgFZd5mqn"
      },
      "source": [
        "# Data\n",
        "\n",
        "In this project, we will use the smoking dataset from Kaggle.\n",
        "\n",
        "\n",
        "This dataset contains 1691 observations and 12 variables. An observation consists of variables: gender, age, marital status, highest education level, nationality, ethnicity, gross income, region, smoke status, number of cigarettes smoked per day on weekends, number of cigarettes smoked per day on weekdays, type of cigarettes smoked.\n",
        "\n",
        "\n",
        "Input features are:\n",
        "- Age: discrete; depicts the age of the participant in year\n",
        "- Gender: nominal; female or male; depicts the gender of the participant\n",
        "- Marital_status: nominal; divorced, married, separated, single, or widowed\n",
        "- Highest_qualification: nominal; no qualification, GCSE/O level, degree, other/sub degree, higher/sub degree\n",
        "- Nationality: nominal; British, English, Irish, Scottish, Welsh, Other, Refused and Unknown\n",
        "- Ethnicity: nominal; Asian, Black, Chinese, Mixed, White, and Refused Unknown\n",
        "- Gross_income: ordinal; under 2600, 2600 to 5200, 5200 to 10400, 10400 to 15600, 15600 to 20800, 20800 to 28600, 28600 to 36400, above 36400, refused and unknown; depicts the gross income of the participant in dollars\n",
        "- region: nominal; london, midlands & east anglia, scotland, south east, south west, the north and wales\n",
        "\n",
        "Output feature:\n",
        "- Smoke: binary; yes or no; depicts the smoking status of the participant \n",
        "\n",
        "Preprocessing:\n",
        "Once we have the data in the pandas dataframe, we need to check if there are any missing values. Then we need to convert the output feature [smoke] to numeric values by using LableEncoder() in the sklearn package. Do the same for all the other input features except for [age]. Since there is no continuous data in the dataset, there is no need for standadization. After EDA, we might need to drop off some unimportant features or reduce the dimensions by doing PCA."
      ]
    },
    {
      "cell_type": "markdown",
      "metadata": {
        "id": "_C-JqReB5mqo"
      },
      "source": [
        "# Proposed Solution\n",
        "\n",
        "First, we need to load the dataset into a suitable data structure, such as a Pandas DataFrame. Then, splitting the dataset into two subsets: a training set and a test set. Training set will be used to train our algorithm, and the test set will be used to evaluate its performance. After that, we will use random forest to specify the desired number of trees in the forest and other hyperparameters. Fit it into our training data, and let it learn relationships between features and output(smoking[yes/no]). Additionally, when we do model evaluation, we will predict whether people are smoking or not first of the test set using the trained classifier, and then compare the prediction with the true labels from the test set, then use metrics like accuracy, precision, recall to calculate the evaluation to know the performance of the model. \n",
        "\n",
        "Libraries such as pandas, scikit-learn, and matplotlib can be utilized for data manipulation, model training, evaluation, and visualization.The algorithm's ensemble and the use of bootstrapping and feature bagging help reduce overfitting and enhance generalization.\n",
        "\n",
        "As a benchmark model, we can employ a simple logistic regression classifier or a decision tree classifier. These models provide a baseline against which the random forest classifier's performance can be compared.\n"
      ]
    },
    {
      "cell_type": "markdown",
      "metadata": {
        "id": "OXJnM-ig5mqo"
      },
      "source": [
        "# Evaluation Metrics\n",
        "\n",
        "Accuracy: Accuracy = (correct number) / (total number)\n",
        "\n",
        "Example:If we have 1000 data about data, and to predict whether he/she is smoking or not. If the algorithm correctly predicts whether 800 people are smoking or not, then we get the accuracy 80%.\n",
        "\n",
        "By comparing the accuracy of the benchmark model and the solution model, we can assess which model performs better in predicting the smoking status of individual\n",
        "\n",
        "Precision: Precision = (TP)/ (TP + FP)\n",
        "\n",
        "Recall : Recall = (TP)/(TP + FN)\n",
        "\n",
        "A high precision score indicates that the classifier has a low rate of false positives, meaning it is effective at identifying smokers without misclassifying non-smokers as smokers.A high recall score indicates that the classifier has a low rate of false negatives, meaning it is effective at capturing most smokers without missing many of them.\n",
        "\n",
        "We can use these two metrics together to provide the classifier's performance while precision focuses on the accuracy of positive predictions, recall emphasizes the ability to correctly identify positive instances.\n"
      ]
    },
    {
      "cell_type": "markdown",
      "metadata": {
        "id": "WVQ6oXQj5mqo"
      },
      "source": [
        "# Ethics & Privacy"
      ]
    },
    {
      "cell_type": "markdown",
      "metadata": {
        "id": "gS0l21IM5mqo"
      },
      "source": [
        "Ethics and privacy are paramount in our project due to the personal data used. We will employ data anonymization and strict access controls to maintain privacy. Our model to predict smoking behavior could be misused for discrimination or stigmatization, which we strongly discourage. We acknowledge the potential for unintended ethical problems once the model is in production. Thus, we will implement a continuous monitoring framework to identify and address any adverse implications promptly, ensuring the responsible use of our model."
      ]
    },
    {
      "cell_type": "markdown",
      "metadata": {
        "id": "CkVICls25mqo"
      },
      "source": [
        "# Team Expectations "
      ]
    },
    {
      "cell_type": "markdown",
      "metadata": {
        "id": "py9siWqB5mqo"
      },
      "source": [
        "* *Team Expectation 1*: Communication\n",
        "We will maintain open and respectful communication channels, meeting regularly to discuss progress and challenges. Any conflicts will be addressed through constructive discussions, focusing on problem-solving and consensus-building.\n",
        "\n",
        "* *Team Expectation 2*: Decision-Making and Goal-Setting\n",
        "Decisions will be made collectively, with each member's input valued and considered. We will set clear, attainable goals and schedules at the onset, revisiting them as needed to ensure we stay on track.\n",
        "\n",
        "* *Team Expecation 3*: Workload and Deadlines\n",
        "We anticipate an equitable distribution of work among team members, respecting each person's strengths and limitations. Deadlines are expected to be met, and in instances of anticipated delays, the team will be informed promptly to devise a suitable solution.\n"
      ]
    },
    {
      "cell_type": "markdown",
      "metadata": {
        "id": "shzOerMb5mqo"
      },
      "source": [
        "# Project Timeline Proposal"
      ]
    },
    {
      "cell_type": "markdown",
      "metadata": {
        "id": "eDU1uX-H5mqo"
      },
      "source": [
        "| Meeting Date  | Meeting Time| Completed Before Meeting  | Discuss at Meeting |\n",
        "|---|---|---|---|\n",
        "| 5/14  |  1 PM |  Brainstorm ideas  | Determine what topic we are going to do and best form of communication. Also, distribute the work to finish the proposal| \n",
        "| 5/16  |  9 PM |  Come together to finalize proposal | Go through all details in the proposal finally and turn in the proposal| \n",
        "| 5/20  | 10 AM  | Consider next steps in the project  | Discussion what kind of data processing to be done and what possible algorithms to use  |\n",
        "| 5/28  | 6 PM  | Get together to revise the original proposal | Go through the advice given by the TA and work on the details   |\n",
        "| 5/31  | 12 PM  | Turn in the Checkpoint | Discuss and go over the revised work finally and turn it in |\n",
        "| 6/5  | 12 PM  | Coding Discussion | Discuss exact steps and what specific libraries and functions to use to implement our methods |\n",
        "| 6/13  | 1 PM  | Go over the entire project | Turn in Final Project  |"
      ]
    },
    {
      "cell_type": "markdown",
      "metadata": {
        "id": "xDL1IVJf5mqo"
      },
      "source": [
        "# Footnotes\n",
        "<a name=\"cite_note-1\"></a>1. [^](#cite_ref-1) Centers for Disease Control and Prevention (April 28, 2020),https://www.cdc.gov/tobacco/data_statistics/fact_sheets/health_effects/tobacco_related_mortality/index.htm#:~:text=Cigarette%20smoking%20is%20estimated%20to%20cause%20the%20following%3A&text=More%20than%20480%2C000%20deaths%20annually,including%20deaths%20from%20secondhand%20smoke)\n",
        "\n",
        "<a name=\"cite_note-2\"></a>2. [^](#cite_ref-2) Ramsey, M. W., Jr, Chen-Sankey, J. C., Reese-Smith, J., & Choi, K. (2019). Association between marital status and cigarette smoking: Variation by race and ethnicity. Preventive medicine, 119, 48–51. https://doi.org/10.1016/j.ypmed.2018.12.010\n",
        "\n",
        "<a name=\"cite_note-3\"></a>3. [^](#cite_ref-3) Hannah Ritchie (September 02, 2019), https://ourworldindata.org/who-smokes-more-men-or-women\n",
        "\n",
        "<a name=\"cite_note-4\"></a>4. [^](#cite_ref-4) Blakely T, van der Deen FS, Woodward A, et alDo changes in income, deprivation, labour force status and family status influence smoking behaviour over the short run? Panel study of 15 000 adultsTobacco Control 2014;23:e106-e113. https://tobaccocontrol.bmj.com/content/23/e2/e106"
      ]
    }
  ],
  "metadata": {
    "kernelspec": {
      "display_name": "Python 3",
      "language": "python",
      "name": "python3"
    },
    "language_info": {
      "codemirror_mode": {
        "name": "ipython",
        "version": 3
      },
      "file_extension": ".py",
      "mimetype": "text/x-python",
      "name": "python",
      "nbconvert_exporter": "python",
      "pygments_lexer": "ipython3",
      "version": "3.8.8"
    },
    "colab": {
      "provenance": []
    }
  },
  "nbformat": 4,
  "nbformat_minor": 0
}
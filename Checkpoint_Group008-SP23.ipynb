{
  "cells": [
    {
      "cell_type": "markdown",
      "metadata": {
        "id": "H583kTRi5mql"
      },
      "source": [
        "# COGS 118A - Project Checkpoint"
      ]
    },
    {
      "cell_type": "markdown",
      "metadata": {
        "id": "3YDxj9K-5mqn"
      },
      "source": [
        "# Names\n",
        "\n",
        "Hopefully your team is at least this good. Obviously you should replace these with your names.\n",
        "\n",
        "- Zijie Feng\n",
        "- Yunfei Yang\n",
        "- Junyue Lin\n",
        "- Chengqin Li\n"
      ]
    },
    {
      "cell_type": "markdown",
      "metadata": {
        "id": "7w2zwt0j5mqn"
      },
      "source": [
        "# Abstract \n",
        "This project aims to develop a machine-learning model that predicts an individual's likelihood and pattern of smoking based on the UK smoking dataset (https://www.kaggle.com/datasets/utkarshx27/smoking-dataset-from-uk). The dataset comprises 1691 observations across 12 variables including demographic details such as gender, age, marital status, education level, nationality, ethnicity, income, and region, alongside smoking-related indicators such as smoking status, quantity smoked on weekdays and weekends, and the type of cigarette preferred. The objective is to discern the latent patterns and relationships within these variables, leveraging them to create a robust predictive model. The project will include a rigorous process of model selection and feature selection, aimed at optimizing the performance of our machine learning system. Evaluation of the model's performance will be multifaceted, employing several appropriate metrics to ensure a comprehensive assessment. The ultimate goal is to create a model that accurately fits the provided data and generalizes effectively to unseen instances, thereby providing useful insights into the dynamics of smoking behavior."
      ]
    },
    {
      "cell_type": "markdown",
      "metadata": {
        "id": "xewcMvfT5mqn"
      },
      "source": [
        "# Background\n",
        "\n",
        "Health is a common concern all over the world. While notorious diseases like all kinds of cancers represent our idea of how our body can cease to perform normally, it is often overlooked that smoking, so common that people smoke regularly to destress, has caused more than 480,000 deaths annually<a name=\"cite_ref-1\"></a>[<sup>[1]</sup>](#cite_note-1). With the severity of smoking in mind, it is natural to think that we should try our best to prevent people from smoking as much as possible. So, which group of people should we target and convince them to quit smoking? \n",
        "\n",
        "\n",
        "There is plenty of research done on what factors could make someone more or less to smoke. For example, studies have shown that non-Hispanic Black cohabitors, separated non-Hispanic White adults, and single/never married Hispanic adults have a really high prevalence of cigarette smoking compared to groups of people with other marital status and ethnicities<a name=\"cite_ref-2\"></a>[<sup>[2]</sup>](#cite_note-2). This implies that marital status and ethnicity both could potentially be indicators for a smoker/non-smoker. These 2 variables are also what we will be looking at in this project. \n",
        "\n",
        "\n",
        "Gender, as another factor, has also been studied before. It is found that in almost all countries, cigarette usage is more popular among men than among women<a name=\"cite_ref-3\"></a>[<sup>[3]</sup>](#cite_note-3). However, some countries like the UK show a smaller difference between prevalence of smoking among men and women. This implies that maybe gender is not a significant indicator for smoking among people in the UK, which is where our dataset is based. We will look deeper into this later in the project.\n",
        "\n",
        "\n",
        "Income is another factor considered by researchers. It has been found that the worsening of social circumstances, normally related to lower income, could cause higher smoking risk<a name=\"cite_ref-4\"></a>[<sup>[4]</sup>](#cite_note-4). However, as personal income decreases, it could be the case that such individuals would be less likely to consider spending money on cigarettes since they are not a necessity of life. \n",
        "\n",
        "\n",
        "All factors discussed above can vary a lot across different groups of people all over the world. In this proposed project, we will try our best to explore such factors and their influences on the people of the UK, more specifically the individuals contained in our dataset. Smoking usage can be very much correlated with cultural and social norms, so more studies will be needed if we were to extend any conclusions we draw from this project.\n",
        "\n",
        "In general, we want to build a model to predict whether a person smokes because we want to know the target group of people that we should do our best to convey the message that smoking should be avoided. Deciding to smoke is something that is very easy to do. Even though we have plenty of people who don't smoke right now, it is still very possible for them to start smoking at any moment. It would be the best if we could find significant indicators for potential smokers and prevent them from starting to smoke."
      ]
    },
    {
      "cell_type": "markdown",
      "metadata": {
        "id": "Tze4PWwd5mqn"
      },
      "source": [
        "# Problem Statement\n",
        "\n",
        "The problem we will be aiming to address is to determine which machine learning classifier has the best performance to classify whether a UK resident smoke or not. The output feature we are going to use is the [smoke] variable in the dataset, which is a binary value with only yes or no options. The potential algorithms we are going to try include but not limited to linear SVM, RBF SVM, KNN, logistic regression, and random forest. Since there are so many features, KNN might not do a good job on the prediction task. Eventually, we might exclude KNN. Random forest might be a good approach since most of our input features nominal categorical values. After preprocessing and EDA, we will split the data into a training set and testing set. Each algorithm will be trained using the same training data and the hyperparameters of all these algorithms will also be optimized. Finally, we will use precision, recall, and f1-score to compare the performance of these algorithms on the testing set."
      ]
    },
    {
      "cell_type": "markdown",
      "metadata": {
        "id": "P8-CgFZd5mqn"
      },
      "source": [
        "# Data\n",
        "\n",
        "\n",
        "In this project, we will use the smoking dataset from Kaggle. (https://www.kaggle.com/datasets/utkarshx27/smoking-dataset-from-uk)\n",
        "\n",
        "\n",
        "This dataset contains 1691 observations and 8 variables. An observation consists of variables: gender, age, marital status, highest education level, nationality, ethnicity, gross income, region, smoke status.\n",
        "\n",
        "\n",
        "Input features are:\n",
        "- Age: discrete; depicts the age of the participant in year\n",
        "- Gender: nominal; female or male; depicts the gender of the participant\n",
        "- Marital_status: nominal; divorced, married, separated, single, or widowed\n",
        "- Highest_qualification: nominal; no qualification, GCSE/O level, degree, other/sub degree, higher/sub degree\n",
        "- Nationality: nominal; British, English, Irish, Scottish, Welsh, Other, Refused and Unknown\n",
        "- Ethnicity: nominal; Asian, Black, Chinese, Mixed, White, and Refused Unknown\n",
        "- Gross_income: ordinal; under 2600, 2600 to 5200, 5200 to 10400, 10400 to 15600, 15600 to 20800, 20800 to 28600, 28600 to 36400, above 36400, refused and unknown; depicts the gross income of the participant in dollars\n",
        "- region: nominal; london, midlands & east anglia, scotland, south east, south west, the north and wales\n",
        "\n",
        "Output feature:\n",
        "- Smoke: binary; yes or no; depicts the smoking status of the participant \n",
        "\n",
        "Preprocessing: Once we have the data in the pandas dataframe, we need to check if there are any missing values. Then we need to convert the output feature [smoke] to numeric values by using LableEncoder() in the sklearn package. Do the same for all the other input features except for [age]. Since there is no continuous data in the dataset, there is no need for standadization. What's more, due to inbalance proportion of smoker and non-smoker in the dataset, we need to bootstrap the smoker class so that the number of smokers equals the number of non-smokers. After EDA, we might need to drop off some unimportant features."
      ]
    },
    {
      "cell_type": "markdown",
      "metadata": {
        "id": "_C-JqReB5mqo"
      },
      "source": [
        "# Proposed Solution\n",
        "\n",
        "First, we need to load the dataset into a suitable data structure, such as a Pandas DataFrame. Then, splitting the dataset into two subsets: a training set and a test set. Training set will be used to train our algorithm, and the test set will be used to evaluate its performance. After that, we will use random forest to specify the desired number of trees in the forest and other hyperparameters. Fit it into our training data, and let it learn relationships between features and output(smoking[yes/no]). Additionally, when we do model evaluation, we will predict whether people are smoking or not first of the test set using the trained classifier, and then compare the prediction with the true labels from the test set, then use metrics like accuracy, precision, recall to calculate the evaluation to know the performance of the model. \n",
        "\n",
        "Libraries such as pandas, scikit-learn, and matplotlib can be utilized for data manipulation, model training, evaluation, and visualization.The algorithm's ensemble and the use of bootstrapping and feature bagging help reduce overfitting and enhance generalization.\n",
        "\n",
        "As a benchmark model, we can employ a simple logistic regression classifier or a decision tree classifier. These models provide a baseline against which the random forest classifier's performance can be compared.\n"
      ]
    },
    {
      "cell_type": "markdown",
      "metadata": {
        "id": "OXJnM-ig5mqo"
      },
      "source": [
        "# Evaluation Metrics\n",
        "\n",
        "Accuracy: Accuracy = (correct number) / (total number)\n",
        "\n",
        "Example:If we have 1000 data about data, and to predict whether he/she is smoking or not. If the algorithm correctly predicts whether 800 people are smoking or not, then we get the accuracy 80%.\n",
        "\n",
        "By comparing the accuracy of the benchmark model and the solution model, we can assess which model performs better in predicting the smoking status of individual\n",
        "\n",
        "Precision: Precision = (TP)/ (TP + FP)\n",
        "\n",
        "Recall : Recall = (TP)/(TP + FN)\n",
        "\n",
        "A high precision score indicates that the classifier has a low rate of false positives, meaning it is effective at identifying smokers without misclassifying non-smokers as smokers.A high recall score indicates that the classifier has a low rate of false negatives, meaning it is effective at capturing most smokers without missing many of them.\n",
        "\n",
        "We can use these two metrics together to provide the classifier's performance while precision focuses on the accuracy of positive predictions, recall emphasizes the ability to correctly identify positive instances.\n"
      ]
    },
    {
      "cell_type": "markdown",
      "source": [
        "# Preliminary results"
      ],
      "metadata": {
        "id": "bWqRqFcwKRc3"
      }
    },
    {
      "cell_type": "markdown",
      "source": [
        "### Data Processing"
      ],
      "metadata": {
        "id": "VNU8mWlpt4xG"
      }
    },
    {
      "cell_type": "code",
      "source": [
        "import pandas as pd\n",
        "from sklearn.preprocessing import LabelEncoder, OrdinalEncoder, OneHotEncoder\n",
        "from sklearn.utils import resample"
      ],
      "metadata": {
        "id": "YVyhnkmUOdUo"
      },
      "execution_count": 1,
      "outputs": []
    },
    {
      "cell_type": "code",
      "source": [
        "# from google.colab import files\n",
        "# uploaded = files.upload()"
      ],
      "metadata": {
        "id": "FpS1s-YVN1gv"
      },
      "execution_count": 2,
      "outputs": []
    },
    {
      "cell_type": "code",
      "source": [
        "# data = pd.read_csv(\"smoking.csv\")\n",
        "data = pd.read_csv(\"Downloads/archive/smoking.csv\")\n",
        "data = data[['gender', 'age', 'marital_status', 'highest_qualification', 'nationality', \n",
        "                         'gross_income', 'region', 'smoke']]\n",
        "data"
      ],
      "metadata": {
        "id": "c_TSsoJqO8Rg",
        "outputId": "20b8e204-8634-4f73-fd44-d74fc4eef2ea",
        "colab": {
          "base_uri": "https://localhost:8080/",
          "height": 424
        }
      },
      "execution_count": 3,
      "outputs": [
        {
          "output_type": "execute_result",
          "data": {
            "text/plain": [
              "      gender  age marital_status highest_qualification nationality  \\\n",
              "0       Male   38       Divorced      No Qualification     British   \n",
              "1     Female   42         Single      No Qualification     British   \n",
              "2       Male   40        Married                Degree     English   \n",
              "3     Female   40        Married                Degree     English   \n",
              "4     Female   39        Married          GCSE/O Level     British   \n",
              "...      ...  ...            ...                   ...         ...   \n",
              "1686    Male   22         Single      No Qualification    Scottish   \n",
              "1687  Female   49       Divorced      Other/Sub Degree     English   \n",
              "1688    Male   45        Married      Other/Sub Degree    Scottish   \n",
              "1689  Female   51        Married      No Qualification     English   \n",
              "1690    Male   31        Married                Degree    Scottish   \n",
              "\n",
              "          gross_income     region smoke  \n",
              "0       2,600 to 5,200  The North    No  \n",
              "1          Under 2,600  The North   Yes  \n",
              "2     28,600 to 36,400  The North    No  \n",
              "3     10,400 to 15,600  The North    No  \n",
              "4       2,600 to 5,200  The North    No  \n",
              "...                ...        ...   ...  \n",
              "1686    2,600 to 5,200   Scotland    No  \n",
              "1687    2,600 to 5,200   Scotland   Yes  \n",
              "1688   5,200 to 10,400   Scotland    No  \n",
              "1689    2,600 to 5,200   Scotland   Yes  \n",
              "1690  10,400 to 15,600   Scotland    No  \n",
              "\n",
              "[1691 rows x 8 columns]"
            ],
            "text/html": [
              "<div>\n",
              "<style scoped>\n",
              "    .dataframe tbody tr th:only-of-type {\n",
              "        vertical-align: middle;\n",
              "    }\n",
              "\n",
              "    .dataframe tbody tr th {\n",
              "        vertical-align: top;\n",
              "    }\n",
              "\n",
              "    .dataframe thead th {\n",
              "        text-align: right;\n",
              "    }\n",
              "</style>\n",
              "<table border=\"1\" class=\"dataframe\">\n",
              "  <thead>\n",
              "    <tr style=\"text-align: right;\">\n",
              "      <th></th>\n",
              "      <th>gender</th>\n",
              "      <th>age</th>\n",
              "      <th>marital_status</th>\n",
              "      <th>highest_qualification</th>\n",
              "      <th>nationality</th>\n",
              "      <th>gross_income</th>\n",
              "      <th>region</th>\n",
              "      <th>smoke</th>\n",
              "    </tr>\n",
              "  </thead>\n",
              "  <tbody>\n",
              "    <tr>\n",
              "      <th>0</th>\n",
              "      <td>Male</td>\n",
              "      <td>38</td>\n",
              "      <td>Divorced</td>\n",
              "      <td>No Qualification</td>\n",
              "      <td>British</td>\n",
              "      <td>2,600 to 5,200</td>\n",
              "      <td>The North</td>\n",
              "      <td>No</td>\n",
              "    </tr>\n",
              "    <tr>\n",
              "      <th>1</th>\n",
              "      <td>Female</td>\n",
              "      <td>42</td>\n",
              "      <td>Single</td>\n",
              "      <td>No Qualification</td>\n",
              "      <td>British</td>\n",
              "      <td>Under 2,600</td>\n",
              "      <td>The North</td>\n",
              "      <td>Yes</td>\n",
              "    </tr>\n",
              "    <tr>\n",
              "      <th>2</th>\n",
              "      <td>Male</td>\n",
              "      <td>40</td>\n",
              "      <td>Married</td>\n",
              "      <td>Degree</td>\n",
              "      <td>English</td>\n",
              "      <td>28,600 to 36,400</td>\n",
              "      <td>The North</td>\n",
              "      <td>No</td>\n",
              "    </tr>\n",
              "    <tr>\n",
              "      <th>3</th>\n",
              "      <td>Female</td>\n",
              "      <td>40</td>\n",
              "      <td>Married</td>\n",
              "      <td>Degree</td>\n",
              "      <td>English</td>\n",
              "      <td>10,400 to 15,600</td>\n",
              "      <td>The North</td>\n",
              "      <td>No</td>\n",
              "    </tr>\n",
              "    <tr>\n",
              "      <th>4</th>\n",
              "      <td>Female</td>\n",
              "      <td>39</td>\n",
              "      <td>Married</td>\n",
              "      <td>GCSE/O Level</td>\n",
              "      <td>British</td>\n",
              "      <td>2,600 to 5,200</td>\n",
              "      <td>The North</td>\n",
              "      <td>No</td>\n",
              "    </tr>\n",
              "    <tr>\n",
              "      <th>...</th>\n",
              "      <td>...</td>\n",
              "      <td>...</td>\n",
              "      <td>...</td>\n",
              "      <td>...</td>\n",
              "      <td>...</td>\n",
              "      <td>...</td>\n",
              "      <td>...</td>\n",
              "      <td>...</td>\n",
              "    </tr>\n",
              "    <tr>\n",
              "      <th>1686</th>\n",
              "      <td>Male</td>\n",
              "      <td>22</td>\n",
              "      <td>Single</td>\n",
              "      <td>No Qualification</td>\n",
              "      <td>Scottish</td>\n",
              "      <td>2,600 to 5,200</td>\n",
              "      <td>Scotland</td>\n",
              "      <td>No</td>\n",
              "    </tr>\n",
              "    <tr>\n",
              "      <th>1687</th>\n",
              "      <td>Female</td>\n",
              "      <td>49</td>\n",
              "      <td>Divorced</td>\n",
              "      <td>Other/Sub Degree</td>\n",
              "      <td>English</td>\n",
              "      <td>2,600 to 5,200</td>\n",
              "      <td>Scotland</td>\n",
              "      <td>Yes</td>\n",
              "    </tr>\n",
              "    <tr>\n",
              "      <th>1688</th>\n",
              "      <td>Male</td>\n",
              "      <td>45</td>\n",
              "      <td>Married</td>\n",
              "      <td>Other/Sub Degree</td>\n",
              "      <td>Scottish</td>\n",
              "      <td>5,200 to 10,400</td>\n",
              "      <td>Scotland</td>\n",
              "      <td>No</td>\n",
              "    </tr>\n",
              "    <tr>\n",
              "      <th>1689</th>\n",
              "      <td>Female</td>\n",
              "      <td>51</td>\n",
              "      <td>Married</td>\n",
              "      <td>No Qualification</td>\n",
              "      <td>English</td>\n",
              "      <td>2,600 to 5,200</td>\n",
              "      <td>Scotland</td>\n",
              "      <td>Yes</td>\n",
              "    </tr>\n",
              "    <tr>\n",
              "      <th>1690</th>\n",
              "      <td>Male</td>\n",
              "      <td>31</td>\n",
              "      <td>Married</td>\n",
              "      <td>Degree</td>\n",
              "      <td>Scottish</td>\n",
              "      <td>10,400 to 15,600</td>\n",
              "      <td>Scotland</td>\n",
              "      <td>No</td>\n",
              "    </tr>\n",
              "  </tbody>\n",
              "</table>\n",
              "<p>1691 rows × 8 columns</p>\n",
              "</div>"
            ]
          },
          "metadata": {},
          "execution_count": 3
        }
      ]
    },
    {
      "cell_type": "code",
      "source": [
        "print(data.isnull().sum())"
      ],
      "metadata": {
        "id": "homp2qzIhqg0",
        "colab": {
          "base_uri": "https://localhost:8080/"
        },
        "outputId": "006cb8b3-9211-4926-bd17-50b7d2a63b33"
      },
      "execution_count": 4,
      "outputs": [
        {
          "output_type": "stream",
          "name": "stdout",
          "text": [
            "gender                   0\n",
            "age                      0\n",
            "marital_status           0\n",
            "highest_qualification    0\n",
            "nationality              0\n",
            "gross_income             0\n",
            "region                   0\n",
            "smoke                    0\n",
            "dtype: int64\n"
          ]
        }
      ]
    },
    {
      "cell_type": "code",
      "source": [
        "le = LabelEncoder()\n",
        "data['smoke'] = le.fit_transform(data['smoke'])\n",
        "data['smoke']"
      ],
      "metadata": {
        "id": "plzbNpcHiLSz",
        "colab": {
          "base_uri": "https://localhost:8080/"
        },
        "outputId": "6113d76f-1a00-4766-e9db-9a081089cc45"
      },
      "execution_count": 5,
      "outputs": [
        {
          "output_type": "execute_result",
          "data": {
            "text/plain": [
              "0       0\n",
              "1       1\n",
              "2       0\n",
              "3       0\n",
              "4       0\n",
              "       ..\n",
              "1686    0\n",
              "1687    1\n",
              "1688    0\n",
              "1689    1\n",
              "1690    0\n",
              "Name: smoke, Length: 1691, dtype: int32"
            ]
          },
          "metadata": {},
          "execution_count": 5
        }
      ]
    },
    {
      "cell_type": "code",
      "source": [
        "ordinal_features = ['gross_income']\n",
        "ordinal_encoder = OrdinalEncoder()\n",
        "data[ordinal_features] = ordinal_encoder.fit_transform(data[ordinal_features])\n",
        "\n",
        "categorical_features = ['marital_status', 'gender', 'highest_qualification', 'nationality', 'region']\n",
        "data = pd.get_dummies(data, columns=categorical_features)"
      ],
      "metadata": {
        "id": "nbLqsI4ToTNK"
      },
      "execution_count": 6,
      "outputs": []
    },
    {
      "cell_type": "code",
      "source": [
        "smokers = data[data['smoke'] == 1]\n",
        "nonsmokers = data[data['smoke'] == 0]\n",
        "\n",
        "minority_size = len(smokers)\n",
        "majority_size = len(nonsmokers)\n",
        "\n",
        "smokers_resampled = resample(smokers, n_samples=majority_size, replace=True, random_state=42)\n",
        "\n",
        "data = pd.concat([smokers_resampled, nonsmokers])"
      ],
      "metadata": {
        "id": "azOIsigOZ4E2"
      },
      "execution_count": 7,
      "outputs": []
    },
    {
      "cell_type": "code",
      "source": [
        "data"
      ],
      "metadata": {
        "id": "Ht47CH2goU42",
        "colab": {
          "base_uri": "https://localhost:8080/",
          "height": 461
        },
        "outputId": "8338683a-73ce-4e25-93b0-063840986ba3"
      },
      "execution_count": 8,
      "outputs": [
        {
          "output_type": "execute_result",
          "data": {
            "text/plain": [
              "      age  gross_income  smoke  marital_status_Divorced  \\\n",
              "432    29           0.0      1                        0   \n",
              "1457   46           5.0      1                        0   \n",
              "1163   62           2.0      1                        0   \n",
              "466    76           5.0      1                        0   \n",
              "273    21           5.0      1                        0   \n",
              "...   ...           ...    ...                      ...   \n",
              "1684   78           7.0      0                        0   \n",
              "1685   31           5.0      0                        0   \n",
              "1686   22           2.0      0                        0   \n",
              "1688   45           5.0      0                        0   \n",
              "1690   31           0.0      0                        0   \n",
              "\n",
              "      marital_status_Married  marital_status_Separated  marital_status_Single  \\\n",
              "432                        1                         0                      0   \n",
              "1457                       1                         0                      0   \n",
              "1163                       1                         0                      0   \n",
              "466                        0                         0                      0   \n",
              "273                        0                         0                      1   \n",
              "...                      ...                       ...                    ...   \n",
              "1684                       0                         0                      0   \n",
              "1685                       0                         0                      1   \n",
              "1686                       0                         0                      1   \n",
              "1688                       1                         0                      0   \n",
              "1690                       1                         0                      0   \n",
              "\n",
              "      marital_status_Widowed  gender_Female  gender_Male  ...  \\\n",
              "432                        0              1            0  ...   \n",
              "1457                       0              1            0  ...   \n",
              "1163                       0              0            1  ...   \n",
              "466                        1              1            0  ...   \n",
              "273                        0              1            0  ...   \n",
              "...                      ...            ...          ...  ...   \n",
              "1684                       1              0            1  ...   \n",
              "1685                       0              1            0  ...   \n",
              "1686                       0              0            1  ...   \n",
              "1688                       0              0            1  ...   \n",
              "1690                       0              0            1  ...   \n",
              "\n",
              "      nationality_Scottish  nationality_Unknown  nationality_Welsh  \\\n",
              "432                      0                    0                  0   \n",
              "1457                     0                    0                  0   \n",
              "1163                     0                    0                  0   \n",
              "466                      0                    0                  0   \n",
              "273                      0                    0                  0   \n",
              "...                    ...                  ...                ...   \n",
              "1684                     1                    0                  0   \n",
              "1685                     1                    0                  0   \n",
              "1686                     1                    0                  0   \n",
              "1688                     1                    0                  0   \n",
              "1690                     1                    0                  0   \n",
              "\n",
              "      region_London  region_Midlands & East Anglia  region_Scotland  \\\n",
              "432               0                              1                0   \n",
              "1457              0                              0                0   \n",
              "1163              0                              0                0   \n",
              "466               0                              1                0   \n",
              "273               0                              0                0   \n",
              "...             ...                            ...              ...   \n",
              "1684              0                              0                1   \n",
              "1685              0                              0                1   \n",
              "1686              0                              0                1   \n",
              "1688              0                              0                1   \n",
              "1690              0                              0                1   \n",
              "\n",
              "      region_South East  region_South West  region_The North  region_Wales  \n",
              "432                   0                  0                 0             0  \n",
              "1457                  0                  1                 0             0  \n",
              "1163                  1                  0                 0             0  \n",
              "466                   0                  0                 0             0  \n",
              "273                   0                  0                 1             0  \n",
              "...                 ...                ...               ...           ...  \n",
              "1684                  0                  0                 0             0  \n",
              "1685                  0                  0                 0             0  \n",
              "1686                  0                  0                 0             0  \n",
              "1688                  0                  0                 0             0  \n",
              "1690                  0                  0                 0             0  \n",
              "\n",
              "[2540 rows x 33 columns]"
            ],
            "text/html": [
              "<div>\n",
              "<style scoped>\n",
              "    .dataframe tbody tr th:only-of-type {\n",
              "        vertical-align: middle;\n",
              "    }\n",
              "\n",
              "    .dataframe tbody tr th {\n",
              "        vertical-align: top;\n",
              "    }\n",
              "\n",
              "    .dataframe thead th {\n",
              "        text-align: right;\n",
              "    }\n",
              "</style>\n",
              "<table border=\"1\" class=\"dataframe\">\n",
              "  <thead>\n",
              "    <tr style=\"text-align: right;\">\n",
              "      <th></th>\n",
              "      <th>age</th>\n",
              "      <th>gross_income</th>\n",
              "      <th>smoke</th>\n",
              "      <th>marital_status_Divorced</th>\n",
              "      <th>marital_status_Married</th>\n",
              "      <th>marital_status_Separated</th>\n",
              "      <th>marital_status_Single</th>\n",
              "      <th>marital_status_Widowed</th>\n",
              "      <th>gender_Female</th>\n",
              "      <th>gender_Male</th>\n",
              "      <th>...</th>\n",
              "      <th>nationality_Scottish</th>\n",
              "      <th>nationality_Unknown</th>\n",
              "      <th>nationality_Welsh</th>\n",
              "      <th>region_London</th>\n",
              "      <th>region_Midlands &amp; East Anglia</th>\n",
              "      <th>region_Scotland</th>\n",
              "      <th>region_South East</th>\n",
              "      <th>region_South West</th>\n",
              "      <th>region_The North</th>\n",
              "      <th>region_Wales</th>\n",
              "    </tr>\n",
              "  </thead>\n",
              "  <tbody>\n",
              "    <tr>\n",
              "      <th>432</th>\n",
              "      <td>29</td>\n",
              "      <td>0.0</td>\n",
              "      <td>1</td>\n",
              "      <td>0</td>\n",
              "      <td>1</td>\n",
              "      <td>0</td>\n",
              "      <td>0</td>\n",
              "      <td>0</td>\n",
              "      <td>1</td>\n",
              "      <td>0</td>\n",
              "      <td>...</td>\n",
              "      <td>0</td>\n",
              "      <td>0</td>\n",
              "      <td>0</td>\n",
              "      <td>0</td>\n",
              "      <td>1</td>\n",
              "      <td>0</td>\n",
              "      <td>0</td>\n",
              "      <td>0</td>\n",
              "      <td>0</td>\n",
              "      <td>0</td>\n",
              "    </tr>\n",
              "    <tr>\n",
              "      <th>1457</th>\n",
              "      <td>46</td>\n",
              "      <td>5.0</td>\n",
              "      <td>1</td>\n",
              "      <td>0</td>\n",
              "      <td>1</td>\n",
              "      <td>0</td>\n",
              "      <td>0</td>\n",
              "      <td>0</td>\n",
              "      <td>1</td>\n",
              "      <td>0</td>\n",
              "      <td>...</td>\n",
              "      <td>0</td>\n",
              "      <td>0</td>\n",
              "      <td>0</td>\n",
              "      <td>0</td>\n",
              "      <td>0</td>\n",
              "      <td>0</td>\n",
              "      <td>0</td>\n",
              "      <td>1</td>\n",
              "      <td>0</td>\n",
              "      <td>0</td>\n",
              "    </tr>\n",
              "    <tr>\n",
              "      <th>1163</th>\n",
              "      <td>62</td>\n",
              "      <td>2.0</td>\n",
              "      <td>1</td>\n",
              "      <td>0</td>\n",
              "      <td>1</td>\n",
              "      <td>0</td>\n",
              "      <td>0</td>\n",
              "      <td>0</td>\n",
              "      <td>0</td>\n",
              "      <td>1</td>\n",
              "      <td>...</td>\n",
              "      <td>0</td>\n",
              "      <td>0</td>\n",
              "      <td>0</td>\n",
              "      <td>0</td>\n",
              "      <td>0</td>\n",
              "      <td>0</td>\n",
              "      <td>1</td>\n",
              "      <td>0</td>\n",
              "      <td>0</td>\n",
              "      <td>0</td>\n",
              "    </tr>\n",
              "    <tr>\n",
              "      <th>466</th>\n",
              "      <td>76</td>\n",
              "      <td>5.0</td>\n",
              "      <td>1</td>\n",
              "      <td>0</td>\n",
              "      <td>0</td>\n",
              "      <td>0</td>\n",
              "      <td>0</td>\n",
              "      <td>1</td>\n",
              "      <td>1</td>\n",
              "      <td>0</td>\n",
              "      <td>...</td>\n",
              "      <td>0</td>\n",
              "      <td>0</td>\n",
              "      <td>0</td>\n",
              "      <td>0</td>\n",
              "      <td>1</td>\n",
              "      <td>0</td>\n",
              "      <td>0</td>\n",
              "      <td>0</td>\n",
              "      <td>0</td>\n",
              "      <td>0</td>\n",
              "    </tr>\n",
              "    <tr>\n",
              "      <th>273</th>\n",
              "      <td>21</td>\n",
              "      <td>5.0</td>\n",
              "      <td>1</td>\n",
              "      <td>0</td>\n",
              "      <td>0</td>\n",
              "      <td>0</td>\n",
              "      <td>1</td>\n",
              "      <td>0</td>\n",
              "      <td>1</td>\n",
              "      <td>0</td>\n",
              "      <td>...</td>\n",
              "      <td>0</td>\n",
              "      <td>0</td>\n",
              "      <td>0</td>\n",
              "      <td>0</td>\n",
              "      <td>0</td>\n",
              "      <td>0</td>\n",
              "      <td>0</td>\n",
              "      <td>0</td>\n",
              "      <td>1</td>\n",
              "      <td>0</td>\n",
              "    </tr>\n",
              "    <tr>\n",
              "      <th>...</th>\n",
              "      <td>...</td>\n",
              "      <td>...</td>\n",
              "      <td>...</td>\n",
              "      <td>...</td>\n",
              "      <td>...</td>\n",
              "      <td>...</td>\n",
              "      <td>...</td>\n",
              "      <td>...</td>\n",
              "      <td>...</td>\n",
              "      <td>...</td>\n",
              "      <td>...</td>\n",
              "      <td>...</td>\n",
              "      <td>...</td>\n",
              "      <td>...</td>\n",
              "      <td>...</td>\n",
              "      <td>...</td>\n",
              "      <td>...</td>\n",
              "      <td>...</td>\n",
              "      <td>...</td>\n",
              "      <td>...</td>\n",
              "      <td>...</td>\n",
              "    </tr>\n",
              "    <tr>\n",
              "      <th>1684</th>\n",
              "      <td>78</td>\n",
              "      <td>7.0</td>\n",
              "      <td>0</td>\n",
              "      <td>0</td>\n",
              "      <td>0</td>\n",
              "      <td>0</td>\n",
              "      <td>0</td>\n",
              "      <td>1</td>\n",
              "      <td>0</td>\n",
              "      <td>1</td>\n",
              "      <td>...</td>\n",
              "      <td>1</td>\n",
              "      <td>0</td>\n",
              "      <td>0</td>\n",
              "      <td>0</td>\n",
              "      <td>0</td>\n",
              "      <td>1</td>\n",
              "      <td>0</td>\n",
              "      <td>0</td>\n",
              "      <td>0</td>\n",
              "      <td>0</td>\n",
              "    </tr>\n",
              "    <tr>\n",
              "      <th>1685</th>\n",
              "      <td>31</td>\n",
              "      <td>5.0</td>\n",
              "      <td>0</td>\n",
              "      <td>0</td>\n",
              "      <td>0</td>\n",
              "      <td>0</td>\n",
              "      <td>1</td>\n",
              "      <td>0</td>\n",
              "      <td>1</td>\n",
              "      <td>0</td>\n",
              "      <td>...</td>\n",
              "      <td>1</td>\n",
              "      <td>0</td>\n",
              "      <td>0</td>\n",
              "      <td>0</td>\n",
              "      <td>0</td>\n",
              "      <td>1</td>\n",
              "      <td>0</td>\n",
              "      <td>0</td>\n",
              "      <td>0</td>\n",
              "      <td>0</td>\n",
              "    </tr>\n",
              "    <tr>\n",
              "      <th>1686</th>\n",
              "      <td>22</td>\n",
              "      <td>2.0</td>\n",
              "      <td>0</td>\n",
              "      <td>0</td>\n",
              "      <td>0</td>\n",
              "      <td>0</td>\n",
              "      <td>1</td>\n",
              "      <td>0</td>\n",
              "      <td>0</td>\n",
              "      <td>1</td>\n",
              "      <td>...</td>\n",
              "      <td>1</td>\n",
              "      <td>0</td>\n",
              "      <td>0</td>\n",
              "      <td>0</td>\n",
              "      <td>0</td>\n",
              "      <td>1</td>\n",
              "      <td>0</td>\n",
              "      <td>0</td>\n",
              "      <td>0</td>\n",
              "      <td>0</td>\n",
              "    </tr>\n",
              "    <tr>\n",
              "      <th>1688</th>\n",
              "      <td>45</td>\n",
              "      <td>5.0</td>\n",
              "      <td>0</td>\n",
              "      <td>0</td>\n",
              "      <td>1</td>\n",
              "      <td>0</td>\n",
              "      <td>0</td>\n",
              "      <td>0</td>\n",
              "      <td>0</td>\n",
              "      <td>1</td>\n",
              "      <td>...</td>\n",
              "      <td>1</td>\n",
              "      <td>0</td>\n",
              "      <td>0</td>\n",
              "      <td>0</td>\n",
              "      <td>0</td>\n",
              "      <td>1</td>\n",
              "      <td>0</td>\n",
              "      <td>0</td>\n",
              "      <td>0</td>\n",
              "      <td>0</td>\n",
              "    </tr>\n",
              "    <tr>\n",
              "      <th>1690</th>\n",
              "      <td>31</td>\n",
              "      <td>0.0</td>\n",
              "      <td>0</td>\n",
              "      <td>0</td>\n",
              "      <td>1</td>\n",
              "      <td>0</td>\n",
              "      <td>0</td>\n",
              "      <td>0</td>\n",
              "      <td>0</td>\n",
              "      <td>1</td>\n",
              "      <td>...</td>\n",
              "      <td>1</td>\n",
              "      <td>0</td>\n",
              "      <td>0</td>\n",
              "      <td>0</td>\n",
              "      <td>0</td>\n",
              "      <td>1</td>\n",
              "      <td>0</td>\n",
              "      <td>0</td>\n",
              "      <td>0</td>\n",
              "      <td>0</td>\n",
              "    </tr>\n",
              "  </tbody>\n",
              "</table>\n",
              "<p>2540 rows × 33 columns</p>\n",
              "</div>"
            ]
          },
          "metadata": {},
          "execution_count": 8
        }
      ]
    },
    {
      "cell_type": "markdown",
      "source": [
        "### Different Approaches"
      ],
      "metadata": {
        "id": "c00MNkwXt_tx"
      }
    },
    {
      "cell_type": "markdown",
      "source": [
        "**Random Forest**"
      ],
      "metadata": {
        "id": "Afedh0wDkTy7"
      }
    },
    {
      "cell_type": "code",
      "source": [
        "from sklearn import metrics\n",
        "from sklearn.metrics import accuracy_score, recall_score, precision_score\n",
        "from sklearn.model_selection import (StratifiedKFold, \n",
        "                                     GridSearchCV, \n",
        "                                     RandomizedSearchCV\n",
        "                                    )\n",
        "import matplotlib.pyplot as plt\n",
        "import numpy\n",
        "from sklearn.ensemble import RandomForestClassifier\n",
        "from sklearn.model_selection import train_test_split"
      ],
      "metadata": {
        "id": "Tnfgml8qkPlX"
      },
      "execution_count": 9,
      "outputs": []
    },
    {
      "cell_type": "code",
      "source": [
        "X = data.drop(columns='smoke')\n",
        "y = data['smoke']\n",
        "X_train, X_test, y_train, y_test = train_test_split(X, \n",
        "                                                    y, random_state=0)"
      ],
      "metadata": {
        "id": "VVs0Bd0kkem2"
      },
      "execution_count": 10,
      "outputs": []
    },
    {
      "cell_type": "code",
      "source": [
        "rf = RandomForestClassifier()\n",
        "param_grid = {'n_estimators': [100, 200],\n",
        "              'max_depth': [5, 10, 20, 100, None],\n",
        "              'max_features': ['auto', 'sqrt', None],\n",
        "              'min_samples_split': [2, 5, 10],\n",
        "              'min_samples_leaf': [1, 2, 4, 10],\n",
        "              'bootstrap': [True, False],\n",
        "              'criterion': ['gini', 'entropy']}\n",
        "\n",
        "cv = StratifiedKFold(n_splits= 5, shuffle = True, random_state= 123)\n",
        "n_iter_search = 10\n",
        "gs = RandomizedSearchCV(rf, \n",
        "                        param_distributions = param_grid,\n",
        "                        n_iter = n_iter_search, \n",
        "                        cv = cv, \n",
        "                        scoring= 'accuracy')\n",
        "\n",
        "\n",
        "gs.fit(X_train, y_train)\n",
        "print(\"The best parameters are %s\" % (gs.best_params_)) \n",
        "# Predict on test set\n",
        "y_pred = gs.best_estimator_.predict(X_test)"
      ],
      "metadata": {
        "id": "bIWOrSf9krf9",
        "colab": {
          "base_uri": "https://localhost:8080/"
        },
        "outputId": "dc24066f-9a20-4c94-f6cf-16a074066f95"
      },
      "execution_count": 11,
      "outputs": [
        {
          "output_type": "stream",
          "name": "stderr",
          "text": [
            "C:\\Users\\fj_fl\\anaconda3\\lib\\site-packages\\sklearn\\ensemble\\_forest.py:424: FutureWarning: `max_features='auto'` has been deprecated in 1.1 and will be removed in 1.3. To keep the past behaviour, explicitly set `max_features='sqrt'` or remove this parameter as it is also the default value for RandomForestClassifiers and ExtraTreesClassifiers.\n",
            "  warn(\n",
            "C:\\Users\\fj_fl\\anaconda3\\lib\\site-packages\\sklearn\\ensemble\\_forest.py:424: FutureWarning: `max_features='auto'` has been deprecated in 1.1 and will be removed in 1.3. To keep the past behaviour, explicitly set `max_features='sqrt'` or remove this parameter as it is also the default value for RandomForestClassifiers and ExtraTreesClassifiers.\n",
            "  warn(\n",
            "C:\\Users\\fj_fl\\anaconda3\\lib\\site-packages\\sklearn\\ensemble\\_forest.py:424: FutureWarning: `max_features='auto'` has been deprecated in 1.1 and will be removed in 1.3. To keep the past behaviour, explicitly set `max_features='sqrt'` or remove this parameter as it is also the default value for RandomForestClassifiers and ExtraTreesClassifiers.\n",
            "  warn(\n",
            "C:\\Users\\fj_fl\\anaconda3\\lib\\site-packages\\sklearn\\ensemble\\_forest.py:424: FutureWarning: `max_features='auto'` has been deprecated in 1.1 and will be removed in 1.3. To keep the past behaviour, explicitly set `max_features='sqrt'` or remove this parameter as it is also the default value for RandomForestClassifiers and ExtraTreesClassifiers.\n",
            "  warn(\n",
            "C:\\Users\\fj_fl\\anaconda3\\lib\\site-packages\\sklearn\\ensemble\\_forest.py:424: FutureWarning: `max_features='auto'` has been deprecated in 1.1 and will be removed in 1.3. To keep the past behaviour, explicitly set `max_features='sqrt'` or remove this parameter as it is also the default value for RandomForestClassifiers and ExtraTreesClassifiers.\n",
            "  warn(\n",
            "C:\\Users\\fj_fl\\anaconda3\\lib\\site-packages\\sklearn\\ensemble\\_forest.py:424: FutureWarning: `max_features='auto'` has been deprecated in 1.1 and will be removed in 1.3. To keep the past behaviour, explicitly set `max_features='sqrt'` or remove this parameter as it is also the default value for RandomForestClassifiers and ExtraTreesClassifiers.\n",
            "  warn(\n",
            "C:\\Users\\fj_fl\\anaconda3\\lib\\site-packages\\sklearn\\ensemble\\_forest.py:424: FutureWarning: `max_features='auto'` has been deprecated in 1.1 and will be removed in 1.3. To keep the past behaviour, explicitly set `max_features='sqrt'` or remove this parameter as it is also the default value for RandomForestClassifiers and ExtraTreesClassifiers.\n",
            "  warn(\n",
            "C:\\Users\\fj_fl\\anaconda3\\lib\\site-packages\\sklearn\\ensemble\\_forest.py:424: FutureWarning: `max_features='auto'` has been deprecated in 1.1 and will be removed in 1.3. To keep the past behaviour, explicitly set `max_features='sqrt'` or remove this parameter as it is also the default value for RandomForestClassifiers and ExtraTreesClassifiers.\n",
            "  warn(\n",
            "C:\\Users\\fj_fl\\anaconda3\\lib\\site-packages\\sklearn\\ensemble\\_forest.py:424: FutureWarning: `max_features='auto'` has been deprecated in 1.1 and will be removed in 1.3. To keep the past behaviour, explicitly set `max_features='sqrt'` or remove this parameter as it is also the default value for RandomForestClassifiers and ExtraTreesClassifiers.\n",
            "  warn(\n",
            "C:\\Users\\fj_fl\\anaconda3\\lib\\site-packages\\sklearn\\ensemble\\_forest.py:424: FutureWarning: `max_features='auto'` has been deprecated in 1.1 and will be removed in 1.3. To keep the past behaviour, explicitly set `max_features='sqrt'` or remove this parameter as it is also the default value for RandomForestClassifiers and ExtraTreesClassifiers.\n",
            "  warn(\n",
            "C:\\Users\\fj_fl\\anaconda3\\lib\\site-packages\\sklearn\\ensemble\\_forest.py:424: FutureWarning: `max_features='auto'` has been deprecated in 1.1 and will be removed in 1.3. To keep the past behaviour, explicitly set `max_features='sqrt'` or remove this parameter as it is also the default value for RandomForestClassifiers and ExtraTreesClassifiers.\n",
            "  warn(\n"
          ]
        },
        {
          "output_type": "stream",
          "name": "stdout",
          "text": [
            "The best parameters are {'n_estimators': 200, 'min_samples_split': 5, 'min_samples_leaf': 2, 'max_features': 'auto', 'max_depth': 100, 'criterion': 'gini', 'bootstrap': False}\n"
          ]
        }
      ]
    },
    {
      "cell_type": "code",
      "source": [
        "rf = RandomForestClassifier(n_estimators=200, min_samples_split = 2,\n",
        "                            min_samples_leaf = 1, max_features = 'auto',\n",
        "                            max_depth = None, criterion = 'gini', \n",
        "                            bootstrap = True,\n",
        "                            random_state=0)\n",
        "# fit the model\n",
        "rf.fit(X_train, y_train)\n",
        "# get importance\n",
        "importance = rf.feature_importances_\n",
        "# summarize feature importance\n",
        "for i,v in enumerate(importance):\n",
        "    print('Feature: %0d, Score: %.5f' % (i,v))\n",
        "# plot feature importance\n",
        "plt.bar([x for x in range(len(importance))], importance)\n",
        "plt.show()"
      ],
      "metadata": {
        "id": "xumokuB_ksmH",
        "colab": {
          "base_uri": "https://localhost:8080/",
          "height": 1000
        },
        "outputId": "53413211-f0cd-4915-ae54-8b3b79fd8238"
      },
      "execution_count": 12,
      "outputs": [
        {
          "output_type": "stream",
          "name": "stderr",
          "text": [
            "C:\\Users\\fj_fl\\anaconda3\\lib\\site-packages\\sklearn\\ensemble\\_forest.py:424: FutureWarning: `max_features='auto'` has been deprecated in 1.1 and will be removed in 1.3. To keep the past behaviour, explicitly set `max_features='sqrt'` or remove this parameter as it is also the default value for RandomForestClassifiers and ExtraTreesClassifiers.\n",
            "  warn(\n"
          ]
        },
        {
          "output_type": "stream",
          "name": "stdout",
          "text": [
            "Feature: 0, Score: 0.33317\n",
            "Feature: 1, Score: 0.14511\n",
            "Feature: 2, Score: 0.01736\n",
            "Feature: 3, Score: 0.03083\n",
            "Feature: 4, Score: 0.00821\n",
            "Feature: 5, Score: 0.02086\n",
            "Feature: 6, Score: 0.01359\n",
            "Feature: 7, Score: 0.02434\n",
            "Feature: 8, Score: 0.02464\n",
            "Feature: 9, Score: 0.01602\n",
            "Feature: 10, Score: 0.02227\n",
            "Feature: 11, Score: 0.01537\n",
            "Feature: 12, Score: 0.02195\n",
            "Feature: 13, Score: 0.01526\n",
            "Feature: 14, Score: 0.02567\n",
            "Feature: 15, Score: 0.01266\n",
            "Feature: 16, Score: 0.01679\n",
            "Feature: 17, Score: 0.02718\n",
            "Feature: 18, Score: 0.02776\n",
            "Feature: 19, Score: 0.00668\n",
            "Feature: 20, Score: 0.01163\n",
            "Feature: 21, Score: 0.00280\n",
            "Feature: 22, Score: 0.01144\n",
            "Feature: 23, Score: 0.00068\n",
            "Feature: 24, Score: 0.00691\n",
            "Feature: 25, Score: 0.02737\n",
            "Feature: 26, Score: 0.02725\n",
            "Feature: 27, Score: 0.01094\n",
            "Feature: 28, Score: 0.02277\n",
            "Feature: 29, Score: 0.01719\n",
            "Feature: 30, Score: 0.02751\n",
            "Feature: 31, Score: 0.00778\n"
          ]
        },
        {
          "output_type": "display_data",
          "data": {
            "text/plain": [
              "<Figure size 640x480 with 1 Axes>"
            ],
            "image/png": "[encoded data removed]"
          },
          "metadata": {}
        }
      ]
    },
    {
      "cell_type": "code",
      "source": [
        "print(\"Accuracy: \" + str(accuracy_score(y_test,y_pred)))\n",
        "print(\"Precision: \" + str(precision_score(y_test,y_pred, \n",
        "                                          average= 'weighted')))\n",
        "print(\"Recall: \" + str(recall_score(y_test,y_pred, \n",
        "                                    average= 'weighted')))\n",
        "      \n",
        "confusion_matrix = metrics.confusion_matrix(y_test,y_pred)\n",
        "cm_display = metrics.ConfusionMatrixDisplay(\n",
        "    confusion_matrix = confusion_matrix)\n",
        "cm_display.plot()\n",
        "plt.show()"
      ],
      "metadata": {
        "id": "pQxZGG3zku8X",
        "colab": {
          "base_uri": "https://localhost:8080/",
          "height": 501
        },
        "outputId": "8dd8d9de-5141-4c92-fd84-d6712729ccd2"
      },
      "execution_count": 13,
      "outputs": [
        {
          "output_type": "stream",
          "name": "stdout",
          "text": [
            "Accuracy: 0.8440944881889764\n",
            "Precision: 0.8446823208201807\n",
            "Recall: 0.8440944881889764\n"
          ]
        },
        {
          "output_type": "display_data",
          "data": {
            "text/plain": [
              "<Figure size 640x480 with 2 Axes>"
            ],
            "image/png": "[encoded data removed]"
          },
          "metadata": {}
        }
      ]
    },
    {
      "cell_type": "markdown",
      "source": [
        "Based on the feature importance of random forest, we observe that feature [martal_status], [age], [gross_income], [region], [gender], and [highest_qualification] are relatively important. "
      ],
      "metadata": {
        "id": "RRRIVVnKkymz"
      }
    },
    {
      "cell_type": "code",
      "source": [
        "X_train_rf = X_train.drop(columns=['nationality_Welsh',\n",
        "                                   'nationality_Unknown',\n",
        "                                   'nationality_Refused',\n",
        "                                   'nationality_Other',\n",
        "                                   'nationality_Irish',\n",
        "                                   'nationality_Scottish',\n",
        "                                   'nationality_English',\n",
        "                                   'nationality_British'\n",
        "                                  ])\n",
        "X_train_rf"
      ],
      "metadata": {
        "id": "tZfOBKUKk2Wm",
        "colab": {
          "base_uri": "https://localhost:8080/",
          "height": 461
        },
        "outputId": "8cf8ae2b-0f04-45a3-bc05-fce57a23bb49"
      },
      "execution_count": 14,
      "outputs": [
        {
          "output_type": "execute_result",
          "data": {
            "text/plain": [
              "      age  gross_income  marital_status_Divorced  marital_status_Married  \\\n",
              "1442   28           0.0                        0                       0   \n",
              "254    64           4.0                        0                       1   \n",
              "490    31           2.0                        0                       1   \n",
              "867    64           0.0                        0                       0   \n",
              "1313   22           5.0                        0                       0   \n",
              "...   ...           ...                      ...                     ...   \n",
              "1597   41           3.0                        0                       1   \n",
              "604    56           2.0                        0                       1   \n",
              "566    35           2.0                        0                       1   \n",
              "1291   28           0.0                        0                       0   \n",
              "495    87           5.0                        0                       0   \n",
              "\n",
              "      marital_status_Separated  marital_status_Single  marital_status_Widowed  \\\n",
              "1442                         0                      1                       0   \n",
              "254                          0                      0                       0   \n",
              "490                          0                      0                       0   \n",
              "867                          0                      0                       1   \n",
              "1313                         0                      1                       0   \n",
              "...                        ...                    ...                     ...   \n",
              "1597                         0                      0                       0   \n",
              "604                          0                      0                       0   \n",
              "566                          0                      0                       0   \n",
              "1291                         0                      1                       0   \n",
              "495                          0                      0                       1   \n",
              "\n",
              "      gender_Female  gender_Male  highest_qualification_A Levels  ...  \\\n",
              "1442              0            1                               0  ...   \n",
              "254               0            1                               0  ...   \n",
              "490               1            0                               1  ...   \n",
              "867               0            1                               0  ...   \n",
              "1313              0            1                               0  ...   \n",
              "...             ...          ...                             ...  ...   \n",
              "1597              0            1                               1  ...   \n",
              "604               1            0                               0  ...   \n",
              "566               0            1                               0  ...   \n",
              "1291              1            0                               0  ...   \n",
              "495               1            0                               0  ...   \n",
              "\n",
              "      highest_qualification_No Qualification  highest_qualification_ONC/BTEC  \\\n",
              "1442                                       0                               1   \n",
              "254                                        0                               0   \n",
              "490                                        0                               0   \n",
              "867                                        1                               0   \n",
              "1313                                       0                               0   \n",
              "...                                      ...                             ...   \n",
              "1597                                       0                               0   \n",
              "604                                        1                               0   \n",
              "566                                        0                               0   \n",
              "1291                                       0                               0   \n",
              "495                                        1                               0   \n",
              "\n",
              "      highest_qualification_Other/Sub Degree  region_London  \\\n",
              "1442                                       0              0   \n",
              "254                                        0              0   \n",
              "490                                        0              0   \n",
              "867                                        0              0   \n",
              "1313                                       1              0   \n",
              "...                                      ...            ...   \n",
              "1597                                       0              0   \n",
              "604                                        0              0   \n",
              "566                                        0              0   \n",
              "1291                                       0              0   \n",
              "495                                        0              0   \n",
              "\n",
              "      region_Midlands & East Anglia  region_Scotland  region_South East  \\\n",
              "1442                              0                0                  0   \n",
              "254                               0                0                  0   \n",
              "490                               1                0                  0   \n",
              "867                               1                0                  0   \n",
              "1313                              0                0                  0   \n",
              "...                             ...              ...                ...   \n",
              "1597                              0                1                  0   \n",
              "604                               1                0                  0   \n",
              "566                               1                0                  0   \n",
              "1291                              0                0                  1   \n",
              "495                               1                0                  0   \n",
              "\n",
              "      region_South West  region_The North  region_Wales  \n",
              "1442                  1                 0             0  \n",
              "254                   0                 1             0  \n",
              "490                   0                 0             0  \n",
              "867                   0                 0             0  \n",
              "1313                  1                 0             0  \n",
              "...                 ...               ...           ...  \n",
              "1597                  0                 0             0  \n",
              "604                   0                 0             0  \n",
              "566                   0                 0             0  \n",
              "1291                  0                 0             0  \n",
              "495                   0                 0             0  \n",
              "\n",
              "[1905 rows x 24 columns]"
            ],
            "text/html": [
              "<div>\n",
              "<style scoped>\n",
              "    .dataframe tbody tr th:only-of-type {\n",
              "        vertical-align: middle;\n",
              "    }\n",
              "\n",
              "    .dataframe tbody tr th {\n",
              "        vertical-align: top;\n",
              "    }\n",
              "\n",
              "    .dataframe thead th {\n",
              "        text-align: right;\n",
              "    }\n",
              "</style>\n",
              "<table border=\"1\" class=\"dataframe\">\n",
              "  <thead>\n",
              "    <tr style=\"text-align: right;\">\n",
              "      <th></th>\n",
              "      <th>age</th>\n",
              "      <th>gross_income</th>\n",
              "      <th>marital_status_Divorced</th>\n",
              "      <th>marital_status_Married</th>\n",
              "      <th>marital_status_Separated</th>\n",
              "      <th>marital_status_Single</th>\n",
              "      <th>marital_status_Widowed</th>\n",
              "      <th>gender_Female</th>\n",
              "      <th>gender_Male</th>\n",
              "      <th>highest_qualification_A Levels</th>\n",
              "      <th>...</th>\n",
              "      <th>highest_qualification_No Qualification</th>\n",
              "      <th>highest_qualification_ONC/BTEC</th>\n",
              "      <th>highest_qualification_Other/Sub Degree</th>\n",
              "      <th>region_London</th>\n",
              "      <th>region_Midlands &amp; East Anglia</th>\n",
              "      <th>region_Scotland</th>\n",
              "      <th>region_South East</th>\n",
              "      <th>region_South West</th>\n",
              "      <th>region_The North</th>\n",
              "      <th>region_Wales</th>\n",
              "    </tr>\n",
              "  </thead>\n",
              "  <tbody>\n",
              "    <tr>\n",
              "      <th>1442</th>\n",
              "      <td>28</td>\n",
              "      <td>0.0</td>\n",
              "      <td>0</td>\n",
              "      <td>0</td>\n",
              "      <td>0</td>\n",
              "      <td>1</td>\n",
              "      <td>0</td>\n",
              "      <td>0</td>\n",
              "      <td>1</td>\n",
              "      <td>0</td>\n",
              "      <td>...</td>\n",
              "      <td>0</td>\n",
              "      <td>1</td>\n",
              "      <td>0</td>\n",
              "      <td>0</td>\n",
              "      <td>0</td>\n",
              "      <td>0</td>\n",
              "      <td>0</td>\n",
              "      <td>1</td>\n",
              "      <td>0</td>\n",
              "      <td>0</td>\n",
              "    </tr>\n",
              "    <tr>\n",
              "      <th>254</th>\n",
              "      <td>64</td>\n",
              "      <td>4.0</td>\n",
              "      <td>0</td>\n",
              "      <td>1</td>\n",
              "      <td>0</td>\n",
              "      <td>0</td>\n",
              "      <td>0</td>\n",
              "      <td>0</td>\n",
              "      <td>1</td>\n",
              "      <td>0</td>\n",
              "      <td>...</td>\n",
              "      <td>0</td>\n",
              "      <td>0</td>\n",
              "      <td>0</td>\n",
              "      <td>0</td>\n",
              "      <td>0</td>\n",
              "      <td>0</td>\n",
              "      <td>0</td>\n",
              "      <td>0</td>\n",
              "      <td>1</td>\n",
              "      <td>0</td>\n",
              "    </tr>\n",
              "    <tr>\n",
              "      <th>490</th>\n",
              "      <td>31</td>\n",
              "      <td>2.0</td>\n",
              "      <td>0</td>\n",
              "      <td>1</td>\n",
              "      <td>0</td>\n",
              "      <td>0</td>\n",
              "      <td>0</td>\n",
              "      <td>1</td>\n",
              "      <td>0</td>\n",
              "      <td>1</td>\n",
              "      <td>...</td>\n",
              "      <td>0</td>\n",
              "      <td>0</td>\n",
              "      <td>0</td>\n",
              "      <td>0</td>\n",
              "      <td>1</td>\n",
              "      <td>0</td>\n",
              "      <td>0</td>\n",
              "      <td>0</td>\n",
              "      <td>0</td>\n",
              "      <td>0</td>\n",
              "    </tr>\n",
              "    <tr>\n",
              "      <th>867</th>\n",
              "      <td>64</td>\n",
              "      <td>0.0</td>\n",
              "      <td>0</td>\n",
              "      <td>0</td>\n",
              "      <td>0</td>\n",
              "      <td>0</td>\n",
              "      <td>1</td>\n",
              "      <td>0</td>\n",
              "      <td>1</td>\n",
              "      <td>0</td>\n",
              "      <td>...</td>\n",
              "      <td>1</td>\n",
              "      <td>0</td>\n",
              "      <td>0</td>\n",
              "      <td>0</td>\n",
              "      <td>1</td>\n",
              "      <td>0</td>\n",
              "      <td>0</td>\n",
              "      <td>0</td>\n",
              "      <td>0</td>\n",
              "      <td>0</td>\n",
              "    </tr>\n",
              "    <tr>\n",
              "      <th>1313</th>\n",
              "      <td>22</td>\n",
              "      <td>5.0</td>\n",
              "      <td>0</td>\n",
              "      <td>0</td>\n",
              "      <td>0</td>\n",
              "      <td>1</td>\n",
              "      <td>0</td>\n",
              "      <td>0</td>\n",
              "      <td>1</td>\n",
              "      <td>0</td>\n",
              "      <td>...</td>\n",
              "      <td>0</td>\n",
              "      <td>0</td>\n",
              "      <td>1</td>\n",
              "      <td>0</td>\n",
              "      <td>0</td>\n",
              "      <td>0</td>\n",
              "      <td>0</td>\n",
              "      <td>1</td>\n",
              "      <td>0</td>\n",
              "      <td>0</td>\n",
              "    </tr>\n",
              "    <tr>\n",
              "      <th>...</th>\n",
              "      <td>...</td>\n",
              "      <td>...</td>\n",
              "      <td>...</td>\n",
              "      <td>...</td>\n",
              "      <td>...</td>\n",
              "      <td>...</td>\n",
              "      <td>...</td>\n",
              "      <td>...</td>\n",
              "      <td>...</td>\n",
              "      <td>...</td>\n",
              "      <td>...</td>\n",
              "      <td>...</td>\n",
              "      <td>...</td>\n",
              "      <td>...</td>\n",
              "      <td>...</td>\n",
              "      <td>...</td>\n",
              "      <td>...</td>\n",
              "      <td>...</td>\n",
              "      <td>...</td>\n",
              "      <td>...</td>\n",
              "      <td>...</td>\n",
              "    </tr>\n",
              "    <tr>\n",
              "      <th>1597</th>\n",
              "      <td>41</td>\n",
              "      <td>3.0</td>\n",
              "      <td>0</td>\n",
              "      <td>1</td>\n",
              "      <td>0</td>\n",
              "      <td>0</td>\n",
              "      <td>0</td>\n",
              "      <td>0</td>\n",
              "      <td>1</td>\n",
              "      <td>1</td>\n",
              "      <td>...</td>\n",
              "      <td>0</td>\n",
              "      <td>0</td>\n",
              "      <td>0</td>\n",
              "      <td>0</td>\n",
              "      <td>0</td>\n",
              "      <td>1</td>\n",
              "      <td>0</td>\n",
              "      <td>0</td>\n",
              "      <td>0</td>\n",
              "      <td>0</td>\n",
              "    </tr>\n",
              "    <tr>\n",
              "      <th>604</th>\n",
              "      <td>56</td>\n",
              "      <td>2.0</td>\n",
              "      <td>0</td>\n",
              "      <td>1</td>\n",
              "      <td>0</td>\n",
              "      <td>0</td>\n",
              "      <td>0</td>\n",
              "      <td>1</td>\n",
              "      <td>0</td>\n",
              "      <td>0</td>\n",
              "      <td>...</td>\n",
              "      <td>1</td>\n",
              "      <td>0</td>\n",
              "      <td>0</td>\n",
              "      <td>0</td>\n",
              "      <td>1</td>\n",
              "      <td>0</td>\n",
              "      <td>0</td>\n",
              "      <td>0</td>\n",
              "      <td>0</td>\n",
              "      <td>0</td>\n",
              "    </tr>\n",
              "    <tr>\n",
              "      <th>566</th>\n",
              "      <td>35</td>\n",
              "      <td>2.0</td>\n",
              "      <td>0</td>\n",
              "      <td>1</td>\n",
              "      <td>0</td>\n",
              "      <td>0</td>\n",
              "      <td>0</td>\n",
              "      <td>0</td>\n",
              "      <td>1</td>\n",
              "      <td>0</td>\n",
              "      <td>...</td>\n",
              "      <td>0</td>\n",
              "      <td>0</td>\n",
              "      <td>0</td>\n",
              "      <td>0</td>\n",
              "      <td>1</td>\n",
              "      <td>0</td>\n",
              "      <td>0</td>\n",
              "      <td>0</td>\n",
              "      <td>0</td>\n",
              "      <td>0</td>\n",
              "    </tr>\n",
              "    <tr>\n",
              "      <th>1291</th>\n",
              "      <td>28</td>\n",
              "      <td>0.0</td>\n",
              "      <td>0</td>\n",
              "      <td>0</td>\n",
              "      <td>0</td>\n",
              "      <td>1</td>\n",
              "      <td>0</td>\n",
              "      <td>1</td>\n",
              "      <td>0</td>\n",
              "      <td>0</td>\n",
              "      <td>...</td>\n",
              "      <td>0</td>\n",
              "      <td>0</td>\n",
              "      <td>0</td>\n",
              "      <td>0</td>\n",
              "      <td>0</td>\n",
              "      <td>0</td>\n",
              "      <td>1</td>\n",
              "      <td>0</td>\n",
              "      <td>0</td>\n",
              "      <td>0</td>\n",
              "    </tr>\n",
              "    <tr>\n",
              "      <th>495</th>\n",
              "      <td>87</td>\n",
              "      <td>5.0</td>\n",
              "      <td>0</td>\n",
              "      <td>0</td>\n",
              "      <td>0</td>\n",
              "      <td>0</td>\n",
              "      <td>1</td>\n",
              "      <td>1</td>\n",
              "      <td>0</td>\n",
              "      <td>0</td>\n",
              "      <td>...</td>\n",
              "      <td>1</td>\n",
              "      <td>0</td>\n",
              "      <td>0</td>\n",
              "      <td>0</td>\n",
              "      <td>1</td>\n",
              "      <td>0</td>\n",
              "      <td>0</td>\n",
              "      <td>0</td>\n",
              "      <td>0</td>\n",
              "      <td>0</td>\n",
              "    </tr>\n",
              "  </tbody>\n",
              "</table>\n",
              "<p>1905 rows × 24 columns</p>\n",
              "</div>"
            ]
          },
          "metadata": {},
          "execution_count": 14
        }
      ]
    },
    {
      "cell_type": "code",
      "source": [
        "X_test_rf = X_test.drop(columns=['nationality_Welsh',\n",
        "                                   'nationality_Unknown',\n",
        "                                   'nationality_Refused',\n",
        "                                   'nationality_Other',\n",
        "                                   'nationality_Irish',\n",
        "                                   'nationality_Scottish',\n",
        "                                   'nationality_English',\n",
        "                                   'nationality_British'\n",
        "                                  ])\n",
        "print('X_train shape:', X_train_rf.shape)\n",
        "print('X_test shape:', X_test_rf.shape)"
      ],
      "metadata": {
        "id": "vtHLkjNOlEgy",
        "colab": {
          "base_uri": "https://localhost:8080/"
        },
        "outputId": "83078838-32d5-4a63-9181-781353e92f04"
      },
      "execution_count": 15,
      "outputs": [
        {
          "output_type": "stream",
          "name": "stdout",
          "text": [
            "X_train shape: (1905, 24)\n",
            "X_test shape: (635, 24)\n"
          ]
        }
      ]
    },
    {
      "cell_type": "code",
      "source": [
        "cv = StratifiedKFold(n_splits= 4, shuffle = True, random_state= 123)\n",
        "n_iter_search = 10\n",
        "gs = RandomizedSearchCV(rf, \n",
        "                        param_distributions = param_grid,\n",
        "                        n_iter = n_iter_search, \n",
        "                        cv = cv, \n",
        "                        scoring= 'accuracy')\n",
        "\n",
        "\n",
        "gs.fit(X_train_rf, y_train)\n",
        "print(\"The best parameters are %s\" % (gs.best_params_)) \n",
        "# Predict on test set\n",
        "y_pred = gs.best_estimator_.predict(X_test_rf)"
      ],
      "metadata": {
        "id": "Jd4daOzFlG3i",
        "colab": {
          "base_uri": "https://localhost:8080/"
        },
        "outputId": "ad68df8a-c7a2-4b40-b7da-98a858566bcd"
      },
      "execution_count": 16,
      "outputs": [
        {
          "output_type": "stream",
          "name": "stderr",
          "text": [
            "C:\\Users\\fj_fl\\anaconda3\\lib\\site-packages\\sklearn\\ensemble\\_forest.py:424: FutureWarning: `max_features='auto'` has been deprecated in 1.1 and will be removed in 1.3. To keep the past behaviour, explicitly set `max_features='sqrt'` or remove this parameter as it is also the default value for RandomForestClassifiers and ExtraTreesClassifiers.\n",
            "  warn(\n",
            "C:\\Users\\fj_fl\\anaconda3\\lib\\site-packages\\sklearn\\ensemble\\_forest.py:424: FutureWarning: `max_features='auto'` has been deprecated in 1.1 and will be removed in 1.3. To keep the past behaviour, explicitly set `max_features='sqrt'` or remove this parameter as it is also the default value for RandomForestClassifiers and ExtraTreesClassifiers.\n",
            "  warn(\n",
            "C:\\Users\\fj_fl\\anaconda3\\lib\\site-packages\\sklearn\\ensemble\\_forest.py:424: FutureWarning: `max_features='auto'` has been deprecated in 1.1 and will be removed in 1.3. To keep the past behaviour, explicitly set `max_features='sqrt'` or remove this parameter as it is also the default value for RandomForestClassifiers and ExtraTreesClassifiers.\n",
            "  warn(\n",
            "C:\\Users\\fj_fl\\anaconda3\\lib\\site-packages\\sklearn\\ensemble\\_forest.py:424: FutureWarning: `max_features='auto'` has been deprecated in 1.1 and will be removed in 1.3. To keep the past behaviour, explicitly set `max_features='sqrt'` or remove this parameter as it is also the default value for RandomForestClassifiers and ExtraTreesClassifiers.\n",
            "  warn(\n",
            "C:\\Users\\fj_fl\\anaconda3\\lib\\site-packages\\sklearn\\ensemble\\_forest.py:424: FutureWarning: `max_features='auto'` has been deprecated in 1.1 and will be removed in 1.3. To keep the past behaviour, explicitly set `max_features='sqrt'` or remove this parameter as it is also the default value for RandomForestClassifiers and ExtraTreesClassifiers.\n",
            "  warn(\n",
            "C:\\Users\\fj_fl\\anaconda3\\lib\\site-packages\\sklearn\\ensemble\\_forest.py:424: FutureWarning: `max_features='auto'` has been deprecated in 1.1 and will be removed in 1.3. To keep the past behaviour, explicitly set `max_features='sqrt'` or remove this parameter as it is also the default value for RandomForestClassifiers and ExtraTreesClassifiers.\n",
            "  warn(\n",
            "C:\\Users\\fj_fl\\anaconda3\\lib\\site-packages\\sklearn\\ensemble\\_forest.py:424: FutureWarning: `max_features='auto'` has been deprecated in 1.1 and will be removed in 1.3. To keep the past behaviour, explicitly set `max_features='sqrt'` or remove this parameter as it is also the default value for RandomForestClassifiers and ExtraTreesClassifiers.\n",
            "  warn(\n",
            "C:\\Users\\fj_fl\\anaconda3\\lib\\site-packages\\sklearn\\ensemble\\_forest.py:424: FutureWarning: `max_features='auto'` has been deprecated in 1.1 and will be removed in 1.3. To keep the past behaviour, explicitly set `max_features='sqrt'` or remove this parameter as it is also the default value for RandomForestClassifiers and ExtraTreesClassifiers.\n",
            "  warn(\n",
            "C:\\Users\\fj_fl\\anaconda3\\lib\\site-packages\\sklearn\\ensemble\\_forest.py:424: FutureWarning: `max_features='auto'` has been deprecated in 1.1 and will be removed in 1.3. To keep the past behaviour, explicitly set `max_features='sqrt'` or remove this parameter as it is also the default value for RandomForestClassifiers and ExtraTreesClassifiers.\n",
            "  warn(\n",
            "C:\\Users\\fj_fl\\anaconda3\\lib\\site-packages\\sklearn\\ensemble\\_forest.py:424: FutureWarning: `max_features='auto'` has been deprecated in 1.1 and will be removed in 1.3. To keep the past behaviour, explicitly set `max_features='sqrt'` or remove this parameter as it is also the default value for RandomForestClassifiers and ExtraTreesClassifiers.\n",
            "  warn(\n",
            "C:\\Users\\fj_fl\\anaconda3\\lib\\site-packages\\sklearn\\ensemble\\_forest.py:424: FutureWarning: `max_features='auto'` has been deprecated in 1.1 and will be removed in 1.3. To keep the past behaviour, explicitly set `max_features='sqrt'` or remove this parameter as it is also the default value for RandomForestClassifiers and ExtraTreesClassifiers.\n",
            "  warn(\n",
            "C:\\Users\\fj_fl\\anaconda3\\lib\\site-packages\\sklearn\\ensemble\\_forest.py:424: FutureWarning: `max_features='auto'` has been deprecated in 1.1 and will be removed in 1.3. To keep the past behaviour, explicitly set `max_features='sqrt'` or remove this parameter as it is also the default value for RandomForestClassifiers and ExtraTreesClassifiers.\n",
            "  warn(\n",
            "C:\\Users\\fj_fl\\anaconda3\\lib\\site-packages\\sklearn\\ensemble\\_forest.py:424: FutureWarning: `max_features='auto'` has been deprecated in 1.1 and will be removed in 1.3. To keep the past behaviour, explicitly set `max_features='sqrt'` or remove this parameter as it is also the default value for RandomForestClassifiers and ExtraTreesClassifiers.\n",
            "  warn(\n",
            "C:\\Users\\fj_fl\\anaconda3\\lib\\site-packages\\sklearn\\ensemble\\_forest.py:424: FutureWarning: `max_features='auto'` has been deprecated in 1.1 and will be removed in 1.3. To keep the past behaviour, explicitly set `max_features='sqrt'` or remove this parameter as it is also the default value for RandomForestClassifiers and ExtraTreesClassifiers.\n",
            "  warn(\n",
            "C:\\Users\\fj_fl\\anaconda3\\lib\\site-packages\\sklearn\\ensemble\\_forest.py:424: FutureWarning: `max_features='auto'` has been deprecated in 1.1 and will be removed in 1.3. To keep the past behaviour, explicitly set `max_features='sqrt'` or remove this parameter as it is also the default value for RandomForestClassifiers and ExtraTreesClassifiers.\n",
            "  warn(\n",
            "C:\\Users\\fj_fl\\anaconda3\\lib\\site-packages\\sklearn\\ensemble\\_forest.py:424: FutureWarning: `max_features='auto'` has been deprecated in 1.1 and will be removed in 1.3. To keep the past behaviour, explicitly set `max_features='sqrt'` or remove this parameter as it is also the default value for RandomForestClassifiers and ExtraTreesClassifiers.\n",
            "  warn(\n",
            "C:\\Users\\fj_fl\\anaconda3\\lib\\site-packages\\sklearn\\ensemble\\_forest.py:424: FutureWarning: `max_features='auto'` has been deprecated in 1.1 and will be removed in 1.3. To keep the past behaviour, explicitly set `max_features='sqrt'` or remove this parameter as it is also the default value for RandomForestClassifiers and ExtraTreesClassifiers.\n",
            "  warn(\n",
            "C:\\Users\\fj_fl\\anaconda3\\lib\\site-packages\\sklearn\\ensemble\\_forest.py:424: FutureWarning: `max_features='auto'` has been deprecated in 1.1 and will be removed in 1.3. To keep the past behaviour, explicitly set `max_features='sqrt'` or remove this parameter as it is also the default value for RandomForestClassifiers and ExtraTreesClassifiers.\n",
            "  warn(\n",
            "C:\\Users\\fj_fl\\anaconda3\\lib\\site-packages\\sklearn\\ensemble\\_forest.py:424: FutureWarning: `max_features='auto'` has been deprecated in 1.1 and will be removed in 1.3. To keep the past behaviour, explicitly set `max_features='sqrt'` or remove this parameter as it is also the default value for RandomForestClassifiers and ExtraTreesClassifiers.\n",
            "  warn(\n",
            "C:\\Users\\fj_fl\\anaconda3\\lib\\site-packages\\sklearn\\ensemble\\_forest.py:424: FutureWarning: `max_features='auto'` has been deprecated in 1.1 and will be removed in 1.3. To keep the past behaviour, explicitly set `max_features='sqrt'` or remove this parameter as it is also the default value for RandomForestClassifiers and ExtraTreesClassifiers.\n",
            "  warn(\n"
          ]
        },
        {
          "output_type": "stream",
          "name": "stdout",
          "text": [
            "The best parameters are {'n_estimators': 200, 'min_samples_split': 5, 'min_samples_leaf': 2, 'max_features': None, 'max_depth': None, 'criterion': 'gini', 'bootstrap': False}\n"
          ]
        }
      ]
    },
    {
      "cell_type": "code",
      "source": [
        "print(\"Accuracy: \" + str(accuracy_score(y_test,y_pred)))\n",
        "print(\"Precision: \" + str(precision_score(y_test,y_pred, \n",
        "                                          average= 'weighted')))\n",
        "print(\"Recall: \" + str(recall_score(y_test,y_pred, \n",
        "                                    average= 'weighted')))\n",
        "\n",
        "confusion_matrix = metrics.confusion_matrix(y_test,y_pred)\n",
        "cm_display = metrics.ConfusionMatrixDisplay(\n",
        "    confusion_matrix = confusion_matrix)\n",
        "cm_display.plot()\n",
        "plt.show()"
      ],
      "metadata": {
        "id": "UEK5Y1sblIsj",
        "colab": {
          "base_uri": "https://localhost:8080/",
          "height": 507
        },
        "outputId": "3c03035a-8eb8-47df-bc46-99e65e84bf72"
      },
      "execution_count": 17,
      "outputs": [
        {
          "output_type": "stream",
          "name": "stdout",
          "text": [
            "Accuracy: 0.7637795275590551\n",
            "Precision: 0.7644697938800248\n",
            "Recall: 0.7637795275590551\n"
          ]
        },
        {
          "output_type": "display_data",
          "data": {
            "text/plain": [
              "<Figure size 640x480 with 2 Axes>"
            ],
            "image/png": "[encoded data removed]"
          },
          "metadata": {}
        }
      ]
    },
    {
      "cell_type": "markdown",
      "source": [
        "We can observe that feature selection slightly improved the performance of random forest, but not a lot."
      ],
      "metadata": {
        "id": "r8xru9xPlLdr"
      }
    },
    {
      "cell_type": "markdown",
      "source": [
        "**Support Vector Machine**"
      ],
      "metadata": {
        "id": "H9jiyp7dGtwC"
      }
    },
    {
      "cell_type": "code",
      "source": [
        "import seaborn as sns\n",
        "import numpy as np\n",
        "\n",
        "from sklearn.compose import ColumnTransformer\n",
        "from sklearn.compose import make_column_selector as selector\n",
        "from sklearn.pipeline import Pipeline\n",
        "from sklearn.svm import SVC\n",
        "from sklearn.model_selection import train_test_split, RandomizedSearchCV, GridSearchCV\n",
        "from sklearn.metrics import classification_report, ConfusionMatrixDisplay"
      ],
      "metadata": {
        "id": "4giXMC8mHnJm"
      },
      "execution_count": 18,
      "outputs": []
    },
    {
      "cell_type": "markdown",
      "source": [
        "First try a simple SVC without any tuning:"
      ],
      "metadata": {
        "id": "yWUwGcLqLmG7"
      }
    },
    {
      "cell_type": "code",
      "source": [
        "y = data[\"smoke\"]\n",
        "X = data.drop(columns=[\"smoke\"])\n",
        "\n",
        "X_train, X_test, y_train, y_test = train_test_split(X, y, test_size=0.25, random_state=66)\n",
        "\n",
        "model = SVC()\n",
        "model.fit(X_train, y_train)\n",
        "  \n",
        "predictions = model.predict(X_test)\n",
        "print(classification_report(y_test, predictions))"
      ],
      "metadata": {
        "id": "MGqLVy2QITov",
        "colab": {
          "base_uri": "https://localhost:8080/"
        },
        "outputId": "75ef9297-c85e-418d-fe9a-c01374c1cfb2"
      },
      "execution_count": 19,
      "outputs": [
        {
          "output_type": "stream",
          "name": "stdout",
          "text": [
            "              precision    recall  f1-score   support\n",
            "\n",
            "           0       0.66      0.50      0.57       324\n",
            "           1       0.58      0.74      0.65       311\n",
            "\n",
            "    accuracy                           0.61       635\n",
            "   macro avg       0.62      0.62      0.61       635\n",
            "weighted avg       0.62      0.61      0.61       635\n",
            "\n"
          ]
        }
      ]
    },
    {
      "cell_type": "markdown",
      "source": [
        "Without any tuning at all, the accuracy we get with this model is 61% which is slightly better than chance. \n",
        "\n",
        "Let's see what we can get after some tuning."
      ],
      "metadata": {
        "id": "_X5p4OkMLqJi"
      }
    },
    {
      "cell_type": "code",
      "source": [
        "search_space = [{'kernel': ['linear'],\n",
        "                 'C': np.logspace(-3, 2, 2)\n",
        "                },\n",
        "                {'kernel': ['poly'],\n",
        "                 'degree': range(2,4),\n",
        "                 'C': np.logspace(-3, 2, 2)\n",
        "                },\n",
        "                {'kernel': ['rbf'],\n",
        "                 'gamma': np.logspace(-3, 2, 2),\n",
        "                 'C': np.logspace(-3, 2, 2)\n",
        "                }]\n",
        "\n",
        "\n",
        "best_model = RandomizedSearchCV(SVC(), search_space, cv=3, verbose=2, n_jobs=-1, scoring=\"accuracy\")\n",
        "\n",
        "best_model.fit(X_train, y_train)"
      ],
      "metadata": {
        "id": "PUV6xqHoI9Cz",
        "colab": {
          "base_uri": "https://localhost:8080/",
          "height": 135
        },
        "outputId": "94c8fc10-50f8-4bfd-dec3-af942d372161"
      },
      "execution_count": 20,
      "outputs": [
        {
          "output_type": "stream",
          "name": "stdout",
          "text": [
            "Fitting 3 folds for each of 10 candidates, totalling 30 fits\n"
          ]
        },
        {
          "output_type": "execute_result",
          "data": {
            "text/plain": [
              "RandomizedSearchCV(cv=3, estimator=SVC(), n_jobs=-1,\n",
              "                   param_distributions=[{'C': array([1.e-03, 1.e+02]),\n",
              "                                         'kernel': ['linear']},\n",
              "                                        {'C': array([1.e-03, 1.e+02]),\n",
              "                                         'degree': range(2, 4),\n",
              "                                         'kernel': ['poly']},\n",
              "                                        {'C': array([1.e-03, 1.e+02]),\n",
              "                                         'gamma': array([1.e-03, 1.e+02]),\n",
              "                                         'kernel': ['rbf']}],\n",
              "                   scoring='accuracy', verbose=2)"
            ],
            "text/html": [
              "<style>#sk-container-id-1 {color: black;background-color: white;}#sk-container-id-1 pre{padding: 0;}#sk-container-id-1 div.sk-toggleable {background-color: white;}#sk-container-id-1 label.sk-toggleable__label {cursor: pointer;display: block;width: 100%;margin-bottom: 0;padding: 0.3em;box-sizing: border-box;text-align: center;}#sk-container-id-1 label.sk-toggleable__label-arrow:before {content: \"▸\";float: left;margin-right: 0.25em;color: #696969;}#sk-container-id-1 label.sk-toggleable__label-arrow:hover:before {color: black;}#sk-container-id-1 div.sk-estimator:hover label.sk-toggleable__label-arrow:before {color: black;}#sk-container-id-1 div.sk-toggleable__content {max-height: 0;max-width: 0;overflow: hidden;text-align: left;background-color: #f0f8ff;}#sk-container-id-1 div.sk-toggleable__content pre {margin: 0.2em;color: black;border-radius: 0.25em;background-color: #f0f8ff;}#sk-container-id-1 input.sk-toggleable__control:checked~div.sk-toggleable__content {max-height: 200px;max-width: 100%;overflow: auto;}#sk-container-id-1 input.sk-toggleable__control:checked~label.sk-toggleable__label-arrow:before {content: \"▾\";}#sk-container-id-1 div.sk-estimator input.sk-toggleable__control:checked~label.sk-toggleable__label {background-color: #d4ebff;}#sk-container-id-1 div.sk-label input.sk-toggleable__control:checked~label.sk-toggleable__label {background-color: #d4ebff;}#sk-container-id-1 input.sk-hidden--visually {border: 0;clip: rect(1px 1px 1px 1px);clip: rect(1px, 1px, 1px, 1px);height: 1px;margin: -1px;overflow: hidden;padding: 0;position: absolute;width: 1px;}#sk-container-id-1 div.sk-estimator {font-family: monospace;background-color: #f0f8ff;border: 1px dotted black;border-radius: 0.25em;box-sizing: border-box;margin-bottom: 0.5em;}#sk-container-id-1 div.sk-estimator:hover {background-color: #d4ebff;}#sk-container-id-1 div.sk-parallel-item::after {content: \"\";width: 100%;border-bottom: 1px solid gray;flex-grow: 1;}#sk-container-id-1 div.sk-label:hover label.sk-toggleable__label {background-color: #d4ebff;}#sk-container-id-1 div.sk-serial::before {content: \"\";position: absolute;border-left: 1px solid gray;box-sizing: border-box;top: 0;bottom: 0;left: 50%;z-index: 0;}#sk-container-id-1 div.sk-serial {display: flex;flex-direction: column;align-items: center;background-color: white;padding-right: 0.2em;padding-left: 0.2em;position: relative;}#sk-container-id-1 div.sk-item {position: relative;z-index: 1;}#sk-container-id-1 div.sk-parallel {display: flex;align-items: stretch;justify-content: center;background-color: white;position: relative;}#sk-container-id-1 div.sk-item::before, #sk-container-id-1 div.sk-parallel-item::before {content: \"\";position: absolute;border-left: 1px solid gray;box-sizing: border-box;top: 0;bottom: 0;left: 50%;z-index: -1;}#sk-container-id-1 div.sk-parallel-item {display: flex;flex-direction: column;z-index: 1;position: relative;background-color: white;}#sk-container-id-1 div.sk-parallel-item:first-child::after {align-self: flex-end;width: 50%;}#sk-container-id-1 div.sk-parallel-item:last-child::after {align-self: flex-start;width: 50%;}#sk-container-id-1 div.sk-parallel-item:only-child::after {width: 0;}#sk-container-id-1 div.sk-dashed-wrapped {border: 1px dashed gray;margin: 0 0.4em 0.5em 0.4em;box-sizing: border-box;padding-bottom: 0.4em;background-color: white;}#sk-container-id-1 div.sk-label label {font-family: monospace;font-weight: bold;display: inline-block;line-height: 1.2em;}#sk-container-id-1 div.sk-label-container {text-align: center;}#sk-container-id-1 div.sk-container {/* jupyter's `normalize.less` sets `[hidden] { display: none; }` but bootstrap.min.css set `[hidden] { display: none !important; }` so we also need the `!important` here to be able to override the default hidden behavior on the sphinx rendered scikit-learn.org. See: https://github.com/scikit-learn/scikit-learn/issues/21755 */display: inline-block !important;position: relative;}#sk-container-id-1 div.sk-text-repr-fallback {display: none;}</style><div id=\"sk-container-id-1\" class=\"sk-top-container\"><div class=\"sk-text-repr-fallback\"><pre>RandomizedSearchCV(cv=3, estimator=SVC(), n_jobs=-1,\n",
              "                   param_distributions=[{&#x27;C&#x27;: array([1.e-03, 1.e+02]),\n",
              "                                         &#x27;kernel&#x27;: [&#x27;linear&#x27;]},\n",
              "                                        {&#x27;C&#x27;: array([1.e-03, 1.e+02]),\n",
              "                                         &#x27;degree&#x27;: range(2, 4),\n",
              "                                         &#x27;kernel&#x27;: [&#x27;poly&#x27;]},\n",
              "                                        {&#x27;C&#x27;: array([1.e-03, 1.e+02]),\n",
              "                                         &#x27;gamma&#x27;: array([1.e-03, 1.e+02]),\n",
              "                                         &#x27;kernel&#x27;: [&#x27;rbf&#x27;]}],\n",
              "                   scoring=&#x27;accuracy&#x27;, verbose=2)</pre><b>In a Jupyter environment, please rerun this cell to show the HTML representation or trust the notebook. <br />On GitHub, the HTML representation is unable to render, please try loading this page with nbviewer.org.</b></div><div class=\"sk-container\" hidden><div class=\"sk-item sk-dashed-wrapped\"><div class=\"sk-label-container\"><div class=\"sk-label sk-toggleable\"><input class=\"sk-toggleable__control sk-hidden--visually\" id=\"sk-estimator-id-1\" type=\"checkbox\" ><label for=\"sk-estimator-id-1\" class=\"sk-toggleable__label sk-toggleable__label-arrow\">RandomizedSearchCV</label><div class=\"sk-toggleable__content\"><pre>RandomizedSearchCV(cv=3, estimator=SVC(), n_jobs=-1,\n",
              "                   param_distributions=[{&#x27;C&#x27;: array([1.e-03, 1.e+02]),\n",
              "                                         &#x27;kernel&#x27;: [&#x27;linear&#x27;]},\n",
              "                                        {&#x27;C&#x27;: array([1.e-03, 1.e+02]),\n",
              "                                         &#x27;degree&#x27;: range(2, 4),\n",
              "                                         &#x27;kernel&#x27;: [&#x27;poly&#x27;]},\n",
              "                                        {&#x27;C&#x27;: array([1.e-03, 1.e+02]),\n",
              "                                         &#x27;gamma&#x27;: array([1.e-03, 1.e+02]),\n",
              "                                         &#x27;kernel&#x27;: [&#x27;rbf&#x27;]}],\n",
              "                   scoring=&#x27;accuracy&#x27;, verbose=2)</pre></div></div></div><div class=\"sk-parallel\"><div class=\"sk-parallel-item\"><div class=\"sk-item\"><div class=\"sk-label-container\"><div class=\"sk-label sk-toggleable\"><input class=\"sk-toggleable__control sk-hidden--visually\" id=\"sk-estimator-id-2\" type=\"checkbox\" ><label for=\"sk-estimator-id-2\" class=\"sk-toggleable__label sk-toggleable__label-arrow\">estimator: SVC</label><div class=\"sk-toggleable__content\"><pre>SVC()</pre></div></div></div><div class=\"sk-serial\"><div class=\"sk-item\"><div class=\"sk-estimator sk-toggleable\"><input class=\"sk-toggleable__control sk-hidden--visually\" id=\"sk-estimator-id-3\" type=\"checkbox\" ><label for=\"sk-estimator-id-3\" class=\"sk-toggleable__label sk-toggleable__label-arrow\">SVC</label><div class=\"sk-toggleable__content\"><pre>SVC()</pre></div></div></div></div></div></div></div></div></div></div>"
            ]
          },
          "metadata": {},
          "execution_count": 20
        }
      ]
    },
    {
      "cell_type": "code",
      "source": [
        "print(best_model.best_params_)\n",
        "yhat = best_model.predict(X_test)\n",
        "print(classification_report(y_test, yhat))\n",
        "ConfusionMatrixDisplay.from_predictions(y_test, yhat);"
      ],
      "metadata": {
        "id": "wq9yQra9OxqW",
        "colab": {
          "base_uri": "https://localhost:8080/",
          "height": 623
        },
        "outputId": "ec93b650-82cb-46f5-c57e-30d9fbdf9ea0"
      },
      "execution_count": 21,
      "outputs": [
        {
          "output_type": "stream",
          "name": "stdout",
          "text": [
            "{'kernel': 'rbf', 'gamma': 100.0, 'C': 100.0}\n",
            "              precision    recall  f1-score   support\n",
            "\n",
            "           0       0.91      0.99      0.95       324\n",
            "           1       0.99      0.89      0.94       311\n",
            "\n",
            "    accuracy                           0.94       635\n",
            "   macro avg       0.95      0.94      0.94       635\n",
            "weighted avg       0.95      0.94      0.94       635\n",
            "\n"
          ]
        },
        {
          "output_type": "display_data",
          "data": {
            "text/plain": [
              "<Figure size 640x480 with 2 Axes>"
            ],
            "image/png": "[encoded data removed]"
          },
          "metadata": {}
        }
      ]
    },
    {
      "cell_type": "markdown",
      "source": [
        "We can see here that the best model obtained by the randomized search that raised the accuracy to 94% used the \"rbf\" kernel with a gamma value of 100 and also a C value of 100.\n",
        "\n",
        "Thus it would make sense for us to explore more of svm's potential with the rbf kernel:"
      ],
      "metadata": {
        "id": "RwZVxI3Q4mmj"
      }
    },
    {
      "cell_type": "code",
      "source": [
        "search_space = [{'kernel': ['rbf'],\n",
        "                 'gamma': np.logspace(-3, 2, 10),\n",
        "                 'C': np.logspace(-3, 2, 10)}]\n",
        "\n",
        "\n",
        "best_model = GridSearchCV(SVC(), search_space, cv=5, verbose=2, n_jobs=-1, scoring=\"accuracy\")\n",
        "\n",
        "best_model.fit(X_train, y_train)"
      ],
      "metadata": {
        "id": "Vy8ucWM24xuW",
        "colab": {
          "base_uri": "https://localhost:8080/",
          "height": 135
        },
        "outputId": "bf2e8b30-017c-49df-8f35-684be49f0497"
      },
      "execution_count": 22,
      "outputs": [
        {
          "output_type": "stream",
          "name": "stdout",
          "text": [
            "Fitting 5 folds for each of 100 candidates, totalling 500 fits\n"
          ]
        },
        {
          "output_type": "execute_result",
          "data": {
            "text/plain": [
              "GridSearchCV(cv=5, estimator=SVC(), n_jobs=-1,\n",
              "             param_grid=[{'C': array([1.00000000e-03, 3.59381366e-03, 1.29154967e-02, 4.64158883e-02,\n",
              "       1.66810054e-01, 5.99484250e-01, 2.15443469e+00, 7.74263683e+00,\n",
              "       2.78255940e+01, 1.00000000e+02]),\n",
              "                          'gamma': array([1.00000000e-03, 3.59381366e-03, 1.29154967e-02, 4.64158883e-02,\n",
              "       1.66810054e-01, 5.99484250e-01, 2.15443469e+00, 7.74263683e+00,\n",
              "       2.78255940e+01, 1.00000000e+02]),\n",
              "                          'kernel': ['rbf']}],\n",
              "             scoring='accuracy', verbose=2)"
            ],
            "text/html": [
              "<style>#sk-container-id-2 {color: black;background-color: white;}#sk-container-id-2 pre{padding: 0;}#sk-container-id-2 div.sk-toggleable {background-color: white;}#sk-container-id-2 label.sk-toggleable__label {cursor: pointer;display: block;width: 100%;margin-bottom: 0;padding: 0.3em;box-sizing: border-box;text-align: center;}#sk-container-id-2 label.sk-toggleable__label-arrow:before {content: \"▸\";float: left;margin-right: 0.25em;color: #696969;}#sk-container-id-2 label.sk-toggleable__label-arrow:hover:before {color: black;}#sk-container-id-2 div.sk-estimator:hover label.sk-toggleable__label-arrow:before {color: black;}#sk-container-id-2 div.sk-toggleable__content {max-height: 0;max-width: 0;overflow: hidden;text-align: left;background-color: #f0f8ff;}#sk-container-id-2 div.sk-toggleable__content pre {margin: 0.2em;color: black;border-radius: 0.25em;background-color: #f0f8ff;}#sk-container-id-2 input.sk-toggleable__control:checked~div.sk-toggleable__content {max-height: 200px;max-width: 100%;overflow: auto;}#sk-container-id-2 input.sk-toggleable__control:checked~label.sk-toggleable__label-arrow:before {content: \"▾\";}#sk-container-id-2 div.sk-estimator input.sk-toggleable__control:checked~label.sk-toggleable__label {background-color: #d4ebff;}#sk-container-id-2 div.sk-label input.sk-toggleable__control:checked~label.sk-toggleable__label {background-color: #d4ebff;}#sk-container-id-2 input.sk-hidden--visually {border: 0;clip: rect(1px 1px 1px 1px);clip: rect(1px, 1px, 1px, 1px);height: 1px;margin: -1px;overflow: hidden;padding: 0;position: absolute;width: 1px;}#sk-container-id-2 div.sk-estimator {font-family: monospace;background-color: #f0f8ff;border: 1px dotted black;border-radius: 0.25em;box-sizing: border-box;margin-bottom: 0.5em;}#sk-container-id-2 div.sk-estimator:hover {background-color: #d4ebff;}#sk-container-id-2 div.sk-parallel-item::after {content: \"\";width: 100%;border-bottom: 1px solid gray;flex-grow: 1;}#sk-container-id-2 div.sk-label:hover label.sk-toggleable__label {background-color: #d4ebff;}#sk-container-id-2 div.sk-serial::before {content: \"\";position: absolute;border-left: 1px solid gray;box-sizing: border-box;top: 0;bottom: 0;left: 50%;z-index: 0;}#sk-container-id-2 div.sk-serial {display: flex;flex-direction: column;align-items: center;background-color: white;padding-right: 0.2em;padding-left: 0.2em;position: relative;}#sk-container-id-2 div.sk-item {position: relative;z-index: 1;}#sk-container-id-2 div.sk-parallel {display: flex;align-items: stretch;justify-content: center;background-color: white;position: relative;}#sk-container-id-2 div.sk-item::before, #sk-container-id-2 div.sk-parallel-item::before {content: \"\";position: absolute;border-left: 1px solid gray;box-sizing: border-box;top: 0;bottom: 0;left: 50%;z-index: -1;}#sk-container-id-2 div.sk-parallel-item {display: flex;flex-direction: column;z-index: 1;position: relative;background-color: white;}#sk-container-id-2 div.sk-parallel-item:first-child::after {align-self: flex-end;width: 50%;}#sk-container-id-2 div.sk-parallel-item:last-child::after {align-self: flex-start;width: 50%;}#sk-container-id-2 div.sk-parallel-item:only-child::after {width: 0;}#sk-container-id-2 div.sk-dashed-wrapped {border: 1px dashed gray;margin: 0 0.4em 0.5em 0.4em;box-sizing: border-box;padding-bottom: 0.4em;background-color: white;}#sk-container-id-2 div.sk-label label {font-family: monospace;font-weight: bold;display: inline-block;line-height: 1.2em;}#sk-container-id-2 div.sk-label-container {text-align: center;}#sk-container-id-2 div.sk-container {/* jupyter's `normalize.less` sets `[hidden] { display: none; }` but bootstrap.min.css set `[hidden] { display: none !important; }` so we also need the `!important` here to be able to override the default hidden behavior on the sphinx rendered scikit-learn.org. See: https://github.com/scikit-learn/scikit-learn/issues/21755 */display: inline-block !important;position: relative;}#sk-container-id-2 div.sk-text-repr-fallback {display: none;}</style><div id=\"sk-container-id-2\" class=\"sk-top-container\"><div class=\"sk-text-repr-fallback\"><pre>GridSearchCV(cv=5, estimator=SVC(), n_jobs=-1,\n",
              "             param_grid=[{&#x27;C&#x27;: array([1.00000000e-03, 3.59381366e-03, 1.29154967e-02, 4.64158883e-02,\n",
              "       1.66810054e-01, 5.99484250e-01, 2.15443469e+00, 7.74263683e+00,\n",
              "       2.78255940e+01, 1.00000000e+02]),\n",
              "                          &#x27;gamma&#x27;: array([1.00000000e-03, 3.59381366e-03, 1.29154967e-02, 4.64158883e-02,\n",
              "       1.66810054e-01, 5.99484250e-01, 2.15443469e+00, 7.74263683e+00,\n",
              "       2.78255940e+01, 1.00000000e+02]),\n",
              "                          &#x27;kernel&#x27;: [&#x27;rbf&#x27;]}],\n",
              "             scoring=&#x27;accuracy&#x27;, verbose=2)</pre><b>In a Jupyter environment, please rerun this cell to show the HTML representation or trust the notebook. <br />On GitHub, the HTML representation is unable to render, please try loading this page with nbviewer.org.</b></div><div class=\"sk-container\" hidden><div class=\"sk-item sk-dashed-wrapped\"><div class=\"sk-label-container\"><div class=\"sk-label sk-toggleable\"><input class=\"sk-toggleable__control sk-hidden--visually\" id=\"sk-estimator-id-4\" type=\"checkbox\" ><label for=\"sk-estimator-id-4\" class=\"sk-toggleable__label sk-toggleable__label-arrow\">GridSearchCV</label><div class=\"sk-toggleable__content\"><pre>GridSearchCV(cv=5, estimator=SVC(), n_jobs=-1,\n",
              "             param_grid=[{&#x27;C&#x27;: array([1.00000000e-03, 3.59381366e-03, 1.29154967e-02, 4.64158883e-02,\n",
              "       1.66810054e-01, 5.99484250e-01, 2.15443469e+00, 7.74263683e+00,\n",
              "       2.78255940e+01, 1.00000000e+02]),\n",
              "                          &#x27;gamma&#x27;: array([1.00000000e-03, 3.59381366e-03, 1.29154967e-02, 4.64158883e-02,\n",
              "       1.66810054e-01, 5.99484250e-01, 2.15443469e+00, 7.74263683e+00,\n",
              "       2.78255940e+01, 1.00000000e+02]),\n",
              "                          &#x27;kernel&#x27;: [&#x27;rbf&#x27;]}],\n",
              "             scoring=&#x27;accuracy&#x27;, verbose=2)</pre></div></div></div><div class=\"sk-parallel\"><div class=\"sk-parallel-item\"><div class=\"sk-item\"><div class=\"sk-label-container\"><div class=\"sk-label sk-toggleable\"><input class=\"sk-toggleable__control sk-hidden--visually\" id=\"sk-estimator-id-5\" type=\"checkbox\" ><label for=\"sk-estimator-id-5\" class=\"sk-toggleable__label sk-toggleable__label-arrow\">estimator: SVC</label><div class=\"sk-toggleable__content\"><pre>SVC()</pre></div></div></div><div class=\"sk-serial\"><div class=\"sk-item\"><div class=\"sk-estimator sk-toggleable\"><input class=\"sk-toggleable__control sk-hidden--visually\" id=\"sk-estimator-id-6\" type=\"checkbox\" ><label for=\"sk-estimator-id-6\" class=\"sk-toggleable__label sk-toggleable__label-arrow\">SVC</label><div class=\"sk-toggleable__content\"><pre>SVC()</pre></div></div></div></div></div></div></div></div></div></div>"
            ]
          },
          "metadata": {},
          "execution_count": 22
        }
      ]
    },
    {
      "cell_type": "code",
      "source": [
        "print(best_model.best_params_)\n",
        "yhat = best_model.predict(X_test)\n",
        "print(classification_report(y_test, yhat))\n",
        "ConfusionMatrixDisplay.from_predictions(y_test, yhat);"
      ],
      "metadata": {
        "id": "YLQLkgnM5R1K",
        "colab": {
          "base_uri": "https://localhost:8080/",
          "height": 623
        },
        "outputId": "67e3ed5e-879f-4f87-92cc-0a85ca498bbb"
      },
      "execution_count": 23,
      "outputs": [
        {
          "output_type": "stream",
          "name": "stdout",
          "text": [
            "{'C': 0.5994842503189409, 'gamma': 7.742636826811277, 'kernel': 'rbf'}\n",
            "              precision    recall  f1-score   support\n",
            "\n",
            "           0       0.91      0.99      0.95       324\n",
            "           1       0.99      0.89      0.94       311\n",
            "\n",
            "    accuracy                           0.94       635\n",
            "   macro avg       0.95      0.94      0.94       635\n",
            "weighted avg       0.95      0.94      0.94       635\n",
            "\n"
          ]
        },
        {
          "output_type": "display_data",
          "data": {
            "text/plain": [
              "<Figure size 640x480 with 2 Axes>"
            ],
            "image/png": "[encoded data removed]"
          },
          "metadata": {}
        }
      ]
    },
    {
      "cell_type": "markdown",
      "source": [
        "We can see that with a more exhaustive search using the Grid, the rbf kernel gives the same performance, although with different values of gamma and C."
      ],
      "metadata": {
        "id": "yBK2LGiL5nOR"
      }
    },
    {
      "cell_type": "markdown",
      "metadata": {
        "id": "WVQ6oXQj5mqo"
      },
      "source": [
        "# Ethics & Privacy"
      ]
    },
    {
      "cell_type": "markdown",
      "metadata": {
        "id": "gS0l21IM5mqo"
      },
      "source": [
        "Ethics and privacy are paramount in our project due to the personal data used. We will employ data anonymization and strict access controls to maintain privacy. Our model to predict smoking behavior could be misused for discrimination or stigmatization, which we strongly discourage. We acknowledge the potential for unintended ethical problems once the model is in production. Thus, we will implement a continuous monitoring framework to identify and address any adverse implications promptly, ensuring the responsible use of our model."
      ]
    },
    {
      "cell_type": "markdown",
      "metadata": {
        "id": "CkVICls25mqo"
      },
      "source": [
        "# Team Expectations "
      ]
    },
    {
      "cell_type": "markdown",
      "metadata": {
        "id": "py9siWqB5mqo"
      },
      "source": [
        "* *Team Expectation 1*: Communication\n",
        "We will maintain open and respectful communication channels, meeting regularly to discuss progress and challenges. Any conflicts will be addressed through constructive discussions, focusing on problem-solving and consensus-building.\n",
        "\n",
        "* *Team Expectation 2*: Decision-Making and Goal-Setting\n",
        "Decisions will be made collectively, with each member's input valued and considered. We will set clear, attainable goals and schedules at the onset, revisiting them as needed to ensure we stay on track.\n",
        "\n",
        "* *Team Expecation 3*: Workload and Deadlines\n",
        "We anticipate an equitable distribution of work among team members, respecting each person's strengths and limitations. Deadlines are expected to be met, and in instances of anticipated delays, the team will be informed promptly to devise a suitable solution.\n"
      ]
    },
    {
      "cell_type": "markdown",
      "metadata": {
        "id": "shzOerMb5mqo"
      },
      "source": [
        "# Project Timeline Proposal"
      ]
    },
    {
      "cell_type": "markdown",
      "metadata": {
        "id": "eDU1uX-H5mqo"
      },
      "source": [
        "| Meeting Date  | Meeting Time| Completed Before Meeting  | Discuss at Meeting |\n",
        "|---|---|---|---|\n",
        "| 5/14  |  1 PM |  Brainstorm ideas  | Determine what topic we are going to do and best form of communication. Also, distribute the work to finish the proposal| \n",
        "| 5/16  |  9 PM |  Come together to finalize proposal | Go through all details in the proposal finally and turn in the proposal| \n",
        "| 5/20  | 10 AM  | Consider next steps in the project  | Discussion what kind of data processing to be done and what possible algorithms to use  |\n",
        "| 5/28  | 6 PM  | Get together to revise the original proposal | Go through the advice given by the TA and work on the details   |\n",
        "| 5/31  | 12 PM  | Turn in the Checkpoint | Discuss and go over the revised work finally and turn it in |\n",
        "| 6/5  | 12 PM  | Coding Discussion | Discuss exact steps and what specific libraries and functions to use to implement our methods |\n",
        "| 6/13  | 1 PM  | Go over the entire project | Turn in Final Project  |"
      ]
    },
    {
      "cell_type": "markdown",
      "metadata": {
        "id": "xDL1IVJf5mqo"
      },
      "source": [
        "# Footnotes\n",
        "<a name=\"cite_note-1\"></a>1. [^](#cite_ref-1) Centers for Disease Control and Prevention (April 28, 2020),https://www.cdc.gov/tobacco/data_statistics/fact_sheets/health_effects/tobacco_related_mortality/index.htm#:~:text=Cigarette%20smoking%20is%20estimated%20to%20cause%20the%20following%3A&text=More%20than%20480%2C000%20deaths%20annually,including%20deaths%20from%20secondhand%20smoke)\n",
        "\n",
        "<a name=\"cite_note-2\"></a>2. [^](#cite_ref-2) Ramsey, M. W., Jr, Chen-Sankey, J. C., Reese-Smith, J., & Choi, K. (2019). Association between marital status and cigarette smoking: Variation by race and ethnicity. Preventive medicine, 119, 48–51. https://doi.org/10.1016/j.ypmed.2018.12.010\n",
        "\n",
        "<a name=\"cite_note-3\"></a>3. [^](#cite_ref-3) Hannah Ritchie (September 02, 2019), https://ourworldindata.org/who-smokes-more-men-or-women\n",
        "\n",
        "<a name=\"cite_note-4\"></a>4. [^](#cite_ref-4) Blakely T, van der Deen FS, Woodward A, et alDo changes in income, deprivation, labour force status and family status influence smoking behaviour over the short run? Panel study of 15 000 adultsTobacco Control 2014;23:e106-e113. https://tobaccocontrol.bmj.com/content/23/e2/e106"
      ]
    }
  ],
  "metadata": {
    "kernelspec": {
      "display_name": "Python 3",
      "language": "python",
      "name": "python3"
    },
    "language_info": {
      "codemirror_mode": {
        "name": "ipython",
        "version": 3
      },
      "file_extension": ".py",
      "mimetype": "text/x-python",
      "name": "python",
      "nbconvert_exporter": "python",
      "pygments_lexer": "ipython3",
      "version": "3.8.8"
    },
    "colab": {
      "provenance": []
    }
  },
  "nbformat": 4,
  "nbformat_minor": 0
}